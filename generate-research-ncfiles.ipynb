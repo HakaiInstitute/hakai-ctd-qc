{
 "cells": [
  {
   "cell_type": "markdown",
   "metadata": {},
   "source": [
    "# Packages Installation"
   ]
  },
  {
   "cell_type": "code",
   "execution_count": 1,
   "metadata": {},
   "outputs": [
    {
     "name": "stdout",
     "output_type": "stream",
     "text": [
      "^C\n"
     ]
    }
   ],
   "source": [
    "import pandas as pd\n",
    "import xarray as xr\n",
    "import datetime as dt\n",
    "\n",
    "# Load local modules\n",
    "!pip install git+https://github.com/HakaiInstitute/hakai-profile-qaqc.git\n",
    "import hakai_qc\n"
   ]
  },
  {
   "cell_type": "markdown",
   "metadata": {},
   "source": [
    "# Download station to be reviewed\n",
    "This section download some CTD profile data from the Hakai Database, you can modify the variables station, start_time and end_time variables to refine the data you want to review."
   ]
  },
  {
   "cell_type": "code",
   "execution_count": 2,
   "metadata": {},
   "outputs": [
    {
     "ename": "TypeError",
     "evalue": "an integer is required (got type str)",
     "output_type": "error",
     "traceback": [
      "\u001b[1;31m---------------------------------------------------------------------------\u001b[0m",
      "\u001b[1;31mTypeError\u001b[0m                                 Traceback (most recent call last)",
      "\u001b[1;32m<ipython-input-2-7b9fbfbad84c>\u001b[0m in \u001b[0;36m<module>\u001b[1;34m\u001b[0m\n\u001b[0;32m     10\u001b[0m     \u001b[1;34m'&measurement_dt>'\u001b[0m\u001b[1;33m+\u001b[0m\u001b[0mstart_time\u001b[0m\u001b[1;33m+\u001b[0m\u001b[1;34m'&measurement_dt<'\u001b[0m\u001b[1;33m+\u001b[0m\u001b[0mend_time\u001b[0m\u001b[1;33m+\u001b[0m\u001b[0;31m\\\u001b[0m\u001b[1;33m\u001b[0m\u001b[1;33m\u001b[0m\u001b[0m\n\u001b[0;32m     11\u001b[0m     \u001b[1;34m'&fields='\u001b[0m\u001b[1;33m+\u001b[0m\u001b[1;34m','\u001b[0m\u001b[1;33m.\u001b[0m\u001b[0mjoin\u001b[0m\u001b[1;33m(\u001b[0m\u001b[0mvariable_lists\u001b[0m\u001b[1;33m)\u001b[0m\u001b[1;33m\u001b[0m\u001b[1;33m\u001b[0m\u001b[0m\n\u001b[1;32m---> 12\u001b[1;33m \u001b[0mdf\u001b[0m\u001b[1;33m,\u001b[0m \u001b[0murl\u001b[0m \u001b[1;33m=\u001b[0m \u001b[0mhakai_qc\u001b[0m\u001b[1;33m.\u001b[0m\u001b[0mget\u001b[0m\u001b[1;33m.\u001b[0m\u001b[0mhakai_ctd_data\u001b[0m\u001b[1;33m(\u001b[0m\u001b[0mfilterUrl\u001b[0m\u001b[1;33m)\u001b[0m\u001b[1;33m\u001b[0m\u001b[1;33m\u001b[0m\u001b[0m\n\u001b[0m\u001b[0;32m     13\u001b[0m \u001b[0mprint\u001b[0m\u001b[1;33m(\u001b[0m\u001b[0mstr\u001b[0m\u001b[1;33m(\u001b[0m\u001b[0mlen\u001b[0m\u001b[1;33m(\u001b[0m\u001b[0mdf\u001b[0m\u001b[1;33m)\u001b[0m\u001b[1;33m)\u001b[0m\u001b[1;33m+\u001b[0m\u001b[1;34m' records found'\u001b[0m\u001b[1;33m)\u001b[0m\u001b[1;33m\u001b[0m\u001b[1;33m\u001b[0m\u001b[0m\n\u001b[0;32m     14\u001b[0m \u001b[1;33m\u001b[0m\u001b[0m\n",
      "\u001b[1;32m~\\Documents\\repositories\\hakai-profile-qaqc\\hakai_qc\\get.py\u001b[0m in \u001b[0;36mhakai_ctd_data\u001b[1;34m(filter_url, endpoint, output_format)\u001b[0m\n\u001b[0;32m     41\u001b[0m     \u001b[1;31m# Get Hakai Data\u001b[0m\u001b[1;33m\u001b[0m\u001b[1;33m\u001b[0m\u001b[1;33m\u001b[0m\u001b[0m\n\u001b[0;32m     42\u001b[0m     \u001b[1;31m# Get Data from Hakai API\u001b[0m\u001b[1;33m\u001b[0m\u001b[1;33m\u001b[0m\u001b[1;33m\u001b[0m\u001b[0m\n\u001b[1;32m---> 43\u001b[1;33m     \u001b[0mclient\u001b[0m \u001b[1;33m=\u001b[0m \u001b[0mClient\u001b[0m\u001b[1;33m(\u001b[0m\u001b[1;33m)\u001b[0m  \u001b[1;31m# Follow stdout prompts to get an API token\u001b[0m\u001b[1;33m\u001b[0m\u001b[1;33m\u001b[0m\u001b[0m\n\u001b[0m\u001b[0;32m     44\u001b[0m \u001b[1;33m\u001b[0m\u001b[0m\n\u001b[0;32m     45\u001b[0m     \u001b[1;31m# Make a data request for sampling stations\u001b[0m\u001b[1;33m\u001b[0m\u001b[1;33m\u001b[0m\u001b[1;33m\u001b[0m\u001b[0m\n",
      "\u001b[1;32m~\\Anaconda3\\lib\\site-packages\\hakai_api\\Client.py\u001b[0m in \u001b[0;36m__init__\u001b[1;34m(self, api_root)\u001b[0m\n\u001b[0;32m     39\u001b[0m \u001b[1;33m\u001b[0m\u001b[0m\n\u001b[0;32m     40\u001b[0m         \u001b[1;31m# Try to get cached credentials\u001b[0m\u001b[1;33m\u001b[0m\u001b[1;33m\u001b[0m\u001b[1;33m\u001b[0m\u001b[0m\n\u001b[1;32m---> 41\u001b[1;33m         \u001b[0mcredentials\u001b[0m \u001b[1;33m=\u001b[0m \u001b[0mself\u001b[0m\u001b[1;33m.\u001b[0m\u001b[0m_try_to_load_credentials\u001b[0m\u001b[1;33m(\u001b[0m\u001b[1;33m)\u001b[0m\u001b[1;33m\u001b[0m\u001b[1;33m\u001b[0m\u001b[0m\n\u001b[0m\u001b[0;32m     42\u001b[0m         \u001b[1;32mif\u001b[0m \u001b[0mcredentials\u001b[0m\u001b[1;33m:\u001b[0m\u001b[1;33m\u001b[0m\u001b[1;33m\u001b[0m\u001b[0m\n\u001b[0;32m     43\u001b[0m             \u001b[0mself\u001b[0m\u001b[1;33m.\u001b[0m\u001b[0m_credentials\u001b[0m \u001b[1;33m=\u001b[0m \u001b[0mcredentials\u001b[0m\u001b[1;33m\u001b[0m\u001b[1;33m\u001b[0m\u001b[0m\n",
      "\u001b[1;32m~\\Anaconda3\\lib\\site-packages\\hakai_api\\Client.py\u001b[0m in \u001b[0;36m_try_to_load_credentials\u001b[1;34m(self)\u001b[0m\n\u001b[0;32m     94\u001b[0m \u001b[1;33m\u001b[0m\u001b[0m\n\u001b[0;32m     95\u001b[0m             \u001b[1;32mif\u001b[0m \u001b[1;32mnot\u001b[0m \u001b[0msame_api\u001b[0m \u001b[1;32mor\u001b[0m \u001b[0mcredentials_expired\u001b[0m\u001b[1;33m:\u001b[0m\u001b[1;33m\u001b[0m\u001b[1;33m\u001b[0m\u001b[0m\n\u001b[1;32m---> 96\u001b[1;33m                 \u001b[0mos\u001b[0m\u001b[1;33m.\u001b[0m\u001b[0mclose\u001b[0m\u001b[1;33m(\u001b[0m\u001b[0mself\u001b[0m\u001b[1;33m.\u001b[0m\u001b[0m_credentials_file\u001b[0m\u001b[1;33m)\u001b[0m\u001b[1;33m\u001b[0m\u001b[1;33m\u001b[0m\u001b[0m\n\u001b[0m\u001b[0;32m     97\u001b[0m                 \u001b[0mos\u001b[0m\u001b[1;33m.\u001b[0m\u001b[0mremove\u001b[0m\u001b[1;33m(\u001b[0m\u001b[0mself\u001b[0m\u001b[1;33m.\u001b[0m\u001b[0m_credentials_file\u001b[0m\u001b[1;33m)\u001b[0m\u001b[1;33m\u001b[0m\u001b[1;33m\u001b[0m\u001b[0m\n\u001b[0;32m     98\u001b[0m                 \u001b[1;32mreturn\u001b[0m \u001b[1;32mFalse\u001b[0m\u001b[1;33m\u001b[0m\u001b[1;33m\u001b[0m\u001b[0m\n",
      "\u001b[1;31mTypeError\u001b[0m: an integer is required (got type str)"
     ]
    }
   ],
   "source": [
    "# Get Hakai CTD Data Download through the API\n",
    "station = 'QU39'\n",
    "start_time = '2019-01-01'\n",
    "end_time = '2020-01-01'\n",
    "\n",
    "variable_lists = hakai_qc.get.hakai_api_selected_variables()\n",
    "\n",
    "# Let's just get the data from QU39\n",
    "filterUrl = 'station='+station+'&status!=MISCAST&limit=-1'+\\\n",
    "    '&measurement_dt>'+start_time+'&measurement_dt<'+end_time+\\\n",
    "    '&fields='+','.join(variable_lists)\n",
    "df, url = hakai_qc.get.hakai_ctd_data(filterUrl)\n",
    "print(str(len(df))+' records found')\n",
    "\n",
    "# Regroup profiles and cast direction and sort them by pressure\n",
    "group_variables = ['device_model','device_sn','ctd_file_pk','ctd_cast_pk','direction_flag']\n",
    "df = df.sort_values(by=group_variables+['pressure'])\n",
    "\n",
    "# Just show the first few lines to have a look\n",
    "df.head() # Show the top of the data frame"
   ]
  },
  {
   "cell_type": "markdown",
   "metadata": {},
   "source": [
    "# Review Profile\n",
    "Let's have a look at the percentage of flags present for each tests."
   ]
  },
  {
   "cell_type": "code",
   "execution_count": 34,
   "metadata": {},
   "outputs": [
    {
     "name": "stdout",
     "output_type": "stream",
     "text": [
      "Select Flagged Variable(s) to consider in the following list:\n"
     ]
    },
    {
     "data": {
      "application/vnd.jupyter.widget-view+json": {
       "model_id": "a429d9b5bcc7426d9ac91d818957445e",
       "version_major": 2,
       "version_minor": 0
      },
      "text/plain": [
       "interactive(children=(Dropdown(description='Test to review', index=37, options=('backscatter_beta_flag', 'back…"
      ]
     },
     "metadata": {},
     "output_type": "display_data"
    }
   ],
   "source": [
    "# Get the list of parameters (variables associated with a *_flag column), ignore direction_flag\n",
    "flag_columns = df.filter(like='_flag').columns.tolist()\n",
    "var_columns = set([sub.replace('_flag','') for sub in flag_columns])-{'direction'}\n",
    "\n",
    "# Temporary until the database has the right setup:\n",
    "for var in var_columns:\n",
    "    if var+'_qartod_flag' not in df.columns:\n",
    "        df[var+'_qartod_flag'] = 2\n",
    "    if var+'_flag_description' not in df.columns:\n",
    "        df[var+'_flag_description'] = ''\n",
    "        \n",
    "# Retrive list of tests\n",
    "test_list = sorted(df.filter(regex='_flag$|_test$').columns.tolist())\n",
    "test_list.append(\"None\")\n",
    "\n",
    "# Run the interactive profile review tool\n",
    "hakai_qc.show.interactive_profile_viewer(df,var_columns,test_list)"
   ]
  },
  {
   "cell_type": "code",
   "execution_count": 50,
   "metadata": {},
   "outputs": [],
   "source": [
    "from ipywidgets import widgets, interactive_output\n",
    "\n",
    "hakai_id_list = widgets.Dropdown(options=df['hakai_id'].to_list(),value=df[])\n"
   ]
  },
  {
   "cell_type": "markdown",
   "metadata": {},
   "source": [
    "# Generate a NetCDF File for the approuved profiles!"
   ]
  },
  {
   "cell_type": "code",
   "execution_count": 30,
   "metadata": {},
   "outputs": [],
   "source": [
    "approuved_hakai_id = ['080217_2017-01-08T18:03:05.167Z','080217_2017-01-26T16:56:39.000Z']\n",
    "\n",
    "save_to = ''\n",
    "creator = {\n",
    "    'creator_name': 'Jessy Barrette',\n",
    "    'creator_url': 'https://hakai.org/',\n",
    "    'creator_email': 'jessy.barrette@hakai.org',\n",
    "    'creator_institution':'Hakai Institute',\n",
    "    'creator_country':'Canada'\n",
    "}\n",
    "publisher = {\n",
    "    'publisher_name': 'Hakai Institute',\n",
    "    'publisher_url': 'https://hakai.org/',\n",
    "    'publisher_email': 'contact@hakai.org',\n",
    "    'publisher_country':'Canada',\n",
    "    'publisher_institution':'Hakai Institute'\n",
    "}\n",
    "\n",
    "for hakai_id in approuved_hakai_id:\n",
    "    global_attributes = {'institution':'Hakai Institute',\n",
    "                         'project':'Hakai Oceanography',\n",
    "                         'title':'Hakai Research CTD Profile: '+hakai_id,\n",
    "                         'summary':'text describing that specific data',\n",
    "                         'comment': '',\n",
    "                         'infoUrl':'https://hakai.org/',\n",
    "                         'keywords':'conductivity,temperature,salinity,depth,pressure,dissolved oxygen',\n",
    "                         'acknowledgment':'Hakai Field Techniciens, research and IT groups',\n",
    "                         'id':hakai_id,\n",
    "                         'naming_authority':'Hakai Instititute',\n",
    "                         'date_created':str(dt.datetime.utcnow().isoformat()),\n",
    "                         'standard_name_vocabulary': 'CF Standard Name Table v1.3',\n",
    "                         'license':'unknown',\n",
    "                         'geospatial_lat_units':'degrees_north',\n",
    "                         'geospatial_lon_units':'degrees_east'}\n",
    "\n",
    "    extra_global_attributes = global_attributes\n",
    "    extra_global_attributes.update(creator)\n",
    "    extra_global_attributes.update(publisher)\n",
    "\n",
    "    # Create the NetCDF Source file!\n",
    "    hakai_qc.get.research_profile_netcdf(hakai_id,save_to,\n",
    "                                         extra_global_attributes=extra_global_attributes,\n",
    "                                         extra_variable_attributes=variable_attributes)"
   ]
  },
  {
   "cell_type": "code",
   "execution_count": null,
   "metadata": {},
   "outputs": [],
   "source": []
  }
 ],
 "metadata": {
  "kernelspec": {
   "display_name": "Python 3",
   "language": "python",
   "name": "python3"
  },
  "language_info": {
   "codemirror_mode": {
    "name": "ipython",
    "version": 3
   },
   "file_extension": ".py",
   "mimetype": "text/x-python",
   "name": "python",
   "nbconvert_exporter": "python",
   "pygments_lexer": "ipython3",
   "version": "3.7.3"
  }
 },
 "nbformat": 4,
 "nbformat_minor": 4
}
