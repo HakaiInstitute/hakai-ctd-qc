{
 "cells": [
  {
   "cell_type": "markdown",
   "metadata": {},
   "source": [
    "# Hakai CTD Profile QA/QC Development Tool\n",
    "This jupyter notebook was developed to provide a flexible tool for testing and improving Hakai's QA/QC workflow for CTD profile data. \n",
    "\n",
    "The tool loads Hakai's CTD dataset and allows the user to modify the default tests applied to the data so that different QA/QC thresholds can be evaluated. In addition, new tests can be developed and applied to the data to test thier effectiveness. "
   ]
  },
  {
   "cell_type": "markdown",
   "metadata": {},
   "source": [
    "## Load packages\n",
    "The initial load of these packages may take considerable time. \n",
    "\n",
    "Some of the packages needed are already available on the google Colab Server (pandas, seaborn, matplotlib, json). Others need to be downloaded and installed from their repository on the Hakai and IOOS Github account with the Pypi(pip) package: \n",
    "- [hakai-api-client-python](https://github.com/HakaiInstitute/hakai-api-client-python)\n",
    "- [ioos_qc](https://github.com/HakaiInstitute/ioos_qc@colab-compatible)(Hakai Institute Fork and colab-compatible branch) ioos_qc is actively in developpement. To minimize issues with new changes to the ioos branch we are using a forked version on the Hakai Domain.\n",
    "- [hakai_qc](https://github.com/HakaiInstitute/hakai-profile-qaqc) This package is the main package developped to run the different tests on the Hakai CTD profile dataset. \n",
    "- ipywidgets which makes possible the interactive plotting tool!"
   ]
  },
  {
   "cell_type": "code",
   "execution_count": 1,
   "metadata": {},
   "outputs": [
    {
     "name": "stderr",
     "output_type": "stream",
     "text": [
      "Enabling notebook extension jupyter-js-widgets/extension...\n",
      "      - Validating: ok\n"
     ]
    }
   ],
   "source": [
    "import pandas as pd\n",
    "import seaborn as sns\n",
    "import matplotlib.pyplot as plt\n",
    "import json\n",
    "from plotly.subplots import make_subplots\n",
    "import plotly.graph_objects as go\n",
    "\n",
    "# Get External packages\n",
    "try:\n",
    "    from hakai_api import Client\n",
    "    from ioos_qc.config import QcConfig\n",
    "    import hakai_qc\n",
    "    import ipywidgets as widgets\n",
    "    from ipywidgets import interact\n",
    "    \n",
    "except:\n",
    "    # Install Hakai API Python Client\n",
    "    !pip install git+https://github.com/HakaiInstitute/hakai-api-client-python.git\n",
    "    from hakai_api import Client\n",
    "\n",
    "    # Install ioos_qc\n",
    "    !pip install git+https://github.com/HakaiInstitute/ioos_qc@colab-compatible\n",
    "    from ioos_qc.config import QcConfig\n",
    "    \n",
    "    # Load local modules\n",
    "    !pip install git+https://github.com/HakaiInstitute/hakai-profile-qaqc.git\n",
    "    import hakai_qc\n",
    "    \n",
    "    !pip install ipywidgets\n",
    "    import ipywidgets as widgets\n",
    "    from ipywidgets import interact,interact_manual\n",
    "\n",
    "!jupyter nbextension enable --py widgetsnbextension"
   ]
  },
  {
   "cell_type": "markdown",
   "metadata": {},
   "source": [
    "## Import Stations and CTD data\n",
    "Below, Hakai oceanography stations are uploaded. The Hakai Station Master List is based on a CSV output of the [Hakai Oceanography Master Stations Map and Data](https://hakai.maps.arcgis.com/apps/webappviewer/index.html?id=38e1b1da8d16466bbe5d7c7a713d2678). In order to have the tests applied, new/missing stations will need to be added to the master list."
   ]
  },
  {
   "cell_type": "code",
   "execution_count": 2,
   "metadata": {},
   "outputs": [],
   "source": [
    "# Load Hakai Station List\n",
    "hakai_stations = hakai_qc.get.hakai_stations()"
   ]
  },
  {
   "cell_type": "markdown",
   "metadata": {},
   "source": [
    "The following code allows the user to select a station of interest (i.e. QU39) and then, using the API, downloads the processed CTD data for this station from the Hakai database. Note that the API query will need to be authorized, which requires following the link that appears below the code block (appears after the code block has been run) and copying/pasting the authentication URL into the provided box. The paste dropdown button does not work here, so use CNTRL-V to paste the URL into the box."
   ]
  },
  {
   "cell_type": "code",
   "execution_count": 4,
   "metadata": {},
   "outputs": [
    {
     "name": "stdout",
     "output_type": "stream",
     "text": [
      "Please go here and authorize:\n",
      "https://hecate.hakai.org/api/auth/oauth2?response_type=code&client_id=289782143400-1f4r7l823cqg8fthd31ch4ug0thpejme.apps.googleusercontent.com&state=wEDduPMTCDASN7mAOBpLfhcyK1zB1Z\n",
      "\n",
      "Paste the full redirect URL here:\n",
      "https://hecate.hakai.org/api/auth/oauth2/callback?state=wEDduPMTCDASN7mAOBpLfhcyK1zB1Z&code=4/0AY0e-g4A6I30x6aFgZ4JL3VQffQgz_uRvVdFX6IhPlETE5D3AnPxx59M4qKxDYKNEKqbfQ&scope=email%20profile%20openid%20https://www.googleapis.com/auth/userinfo.profile%20https://www.googleapis.com/auth/userinfo.email&authuser=0&hd=hakai.org&prompt=none\n",
      "135861 records found\n"
     ]
    },
    {
     "name": "stderr",
     "output_type": "stream",
     "text": [
      "C:\\Users\\jessy\\Anaconda3\\lib\\site-packages\\gsw\\_wrapped_ufuncs.py:696: RuntimeWarning:\n",
      "\n",
      "invalid value encountered in ct_from_t\n",
      "\n"
     ]
    },
    {
     "data": {
      "text/html": [
       "<div>\n",
       "<style scoped>\n",
       "    .dataframe tbody tr th:only-of-type {\n",
       "        vertical-align: middle;\n",
       "    }\n",
       "\n",
       "    .dataframe tbody tr th {\n",
       "        vertical-align: top;\n",
       "    }\n",
       "\n",
       "    .dataframe thead th {\n",
       "        text-align: right;\n",
       "    }\n",
       "</style>\n",
       "<table border=\"1\" class=\"dataframe\">\n",
       "  <thead>\n",
       "    <tr style=\"text-align: right;\">\n",
       "      <th></th>\n",
       "      <th>ctd_file_pk</th>\n",
       "      <th>ctd_cast_pk</th>\n",
       "      <th>hakai_id</th>\n",
       "      <th>ctd_data_pk</th>\n",
       "      <th>filename</th>\n",
       "      <th>device_model</th>\n",
       "      <th>device_sn</th>\n",
       "      <th>work_area</th>\n",
       "      <th>cruise</th>\n",
       "      <th>station</th>\n",
       "      <th>...</th>\n",
       "      <th>sos_un</th>\n",
       "      <th>sos_un_flag</th>\n",
       "      <th>backscatter_beta</th>\n",
       "      <th>backscatter_beta_flag</th>\n",
       "      <th>cdom_ppb</th>\n",
       "      <th>cdom_ppb_flag</th>\n",
       "      <th>absolute salinity</th>\n",
       "      <th>conservative temperature</th>\n",
       "      <th>density</th>\n",
       "      <th>sigma0</th>\n",
       "    </tr>\n",
       "  </thead>\n",
       "  <tbody>\n",
       "    <tr>\n",
       "      <th>117244</th>\n",
       "      <td>2745</td>\n",
       "      <td>7913</td>\n",
       "      <td>080217_2017-01-05T17:32:36.333Z</td>\n",
       "      <td>9169911</td>\n",
       "      <td>080217_20170105_1317</td>\n",
       "      <td>RBRconcerto</td>\n",
       "      <td>080217</td>\n",
       "      <td>QUADRA</td>\n",
       "      <td>QOMB</td>\n",
       "      <td>QU39</td>\n",
       "      <td>...</td>\n",
       "      <td>None</td>\n",
       "      <td>None</td>\n",
       "      <td>None</td>\n",
       "      <td>None</td>\n",
       "      <td>None</td>\n",
       "      <td>None</td>\n",
       "      <td>28.019280</td>\n",
       "      <td>6.838949</td>\n",
       "      <td>1021.857610</td>\n",
       "      <td>21.852974</td>\n",
       "    </tr>\n",
       "    <tr>\n",
       "      <th>117245</th>\n",
       "      <td>2745</td>\n",
       "      <td>7913</td>\n",
       "      <td>080217_2017-01-05T17:32:36.333Z</td>\n",
       "      <td>9169912</td>\n",
       "      <td>080217_20170105_1317</td>\n",
       "      <td>RBRconcerto</td>\n",
       "      <td>080217</td>\n",
       "      <td>QUADRA</td>\n",
       "      <td>QOMB</td>\n",
       "      <td>QU39</td>\n",
       "      <td>...</td>\n",
       "      <td>None</td>\n",
       "      <td>None</td>\n",
       "      <td>None</td>\n",
       "      <td>None</td>\n",
       "      <td>None</td>\n",
       "      <td>None</td>\n",
       "      <td>28.009184</td>\n",
       "      <td>6.862007</td>\n",
       "      <td>1021.851638</td>\n",
       "      <td>21.842369</td>\n",
       "    </tr>\n",
       "    <tr>\n",
       "      <th>117246</th>\n",
       "      <td>2745</td>\n",
       "      <td>7913</td>\n",
       "      <td>080217_2017-01-05T17:32:36.333Z</td>\n",
       "      <td>9169913</td>\n",
       "      <td>080217_20170105_1317</td>\n",
       "      <td>RBRconcerto</td>\n",
       "      <td>080217</td>\n",
       "      <td>QUADRA</td>\n",
       "      <td>QOMB</td>\n",
       "      <td>QU39</td>\n",
       "      <td>...</td>\n",
       "      <td>None</td>\n",
       "      <td>None</td>\n",
       "      <td>None</td>\n",
       "      <td>None</td>\n",
       "      <td>None</td>\n",
       "      <td>None</td>\n",
       "      <td>28.008935</td>\n",
       "      <td>6.854664</td>\n",
       "      <td>1021.856944</td>\n",
       "      <td>21.843039</td>\n",
       "    </tr>\n",
       "    <tr>\n",
       "      <th>117247</th>\n",
       "      <td>2745</td>\n",
       "      <td>7913</td>\n",
       "      <td>080217_2017-01-05T17:32:36.333Z</td>\n",
       "      <td>9169914</td>\n",
       "      <td>080217_20170105_1317</td>\n",
       "      <td>RBRconcerto</td>\n",
       "      <td>080217</td>\n",
       "      <td>QUADRA</td>\n",
       "      <td>QOMB</td>\n",
       "      <td>QU39</td>\n",
       "      <td>...</td>\n",
       "      <td>None</td>\n",
       "      <td>None</td>\n",
       "      <td>None</td>\n",
       "      <td>None</td>\n",
       "      <td>None</td>\n",
       "      <td>None</td>\n",
       "      <td>28.009692</td>\n",
       "      <td>6.854777</td>\n",
       "      <td>1021.862157</td>\n",
       "      <td>21.843617</td>\n",
       "    </tr>\n",
       "    <tr>\n",
       "      <th>117248</th>\n",
       "      <td>2745</td>\n",
       "      <td>7913</td>\n",
       "      <td>080217_2017-01-05T17:32:36.333Z</td>\n",
       "      <td>9169915</td>\n",
       "      <td>080217_20170105_1317</td>\n",
       "      <td>RBRconcerto</td>\n",
       "      <td>080217</td>\n",
       "      <td>QUADRA</td>\n",
       "      <td>QOMB</td>\n",
       "      <td>QU39</td>\n",
       "      <td>...</td>\n",
       "      <td>None</td>\n",
       "      <td>None</td>\n",
       "      <td>None</td>\n",
       "      <td>None</td>\n",
       "      <td>None</td>\n",
       "      <td>None</td>\n",
       "      <td>28.013262</td>\n",
       "      <td>6.863834</td>\n",
       "      <td>1021.868514</td>\n",
       "      <td>21.845340</td>\n",
       "    </tr>\n",
       "  </tbody>\n",
       "</table>\n",
       "<p>5 rows × 62 columns</p>\n",
       "</div>"
      ],
      "text/plain": [
       "        ctd_file_pk  ctd_cast_pk                         hakai_id  \\\n",
       "117244         2745         7913  080217_2017-01-05T17:32:36.333Z   \n",
       "117245         2745         7913  080217_2017-01-05T17:32:36.333Z   \n",
       "117246         2745         7913  080217_2017-01-05T17:32:36.333Z   \n",
       "117247         2745         7913  080217_2017-01-05T17:32:36.333Z   \n",
       "117248         2745         7913  080217_2017-01-05T17:32:36.333Z   \n",
       "\n",
       "        ctd_data_pk              filename device_model device_sn work_area  \\\n",
       "117244      9169911  080217_20170105_1317  RBRconcerto    080217    QUADRA   \n",
       "117245      9169912  080217_20170105_1317  RBRconcerto    080217    QUADRA   \n",
       "117246      9169913  080217_20170105_1317  RBRconcerto    080217    QUADRA   \n",
       "117247      9169914  080217_20170105_1317  RBRconcerto    080217    QUADRA   \n",
       "117248      9169915  080217_20170105_1317  RBRconcerto    080217    QUADRA   \n",
       "\n",
       "       cruise station  ...  sos_un  sos_un_flag  backscatter_beta  \\\n",
       "117244   QOMB    QU39  ...    None         None              None   \n",
       "117245   QOMB    QU39  ...    None         None              None   \n",
       "117246   QOMB    QU39  ...    None         None              None   \n",
       "117247   QOMB    QU39  ...    None         None              None   \n",
       "117248   QOMB    QU39  ...    None         None              None   \n",
       "\n",
       "       backscatter_beta_flag cdom_ppb cdom_ppb_flag  absolute salinity  \\\n",
       "117244                  None     None          None          28.019280   \n",
       "117245                  None     None          None          28.009184   \n",
       "117246                  None     None          None          28.008935   \n",
       "117247                  None     None          None          28.009692   \n",
       "117248                  None     None          None          28.013262   \n",
       "\n",
       "        conservative temperature      density     sigma0  \n",
       "117244                  6.838949  1021.857610  21.852974  \n",
       "117245                  6.862007  1021.851638  21.842369  \n",
       "117246                  6.854664  1021.856944  21.843039  \n",
       "117247                  6.854777  1021.862157  21.843617  \n",
       "117248                  6.863834  1021.868514  21.845340  \n",
       "\n",
       "[5 rows x 62 columns]"
      ]
     },
     "execution_count": 4,
     "metadata": {},
     "output_type": "execute_result"
    }
   ],
   "source": [
    "# Get Hakai CTD Data Download through the API\n",
    "station = 'QU39'\n",
    "\n",
    "variable_lists = hakai_qc.get.hakai_api_selected_variables()\n",
    "\n",
    "# Let's just get the data from QU39\n",
    "filterUrl = 'station='+station+'&status!=MISCAST&limit=-1'+'&fields='+','.join(variable_lists)\n",
    "#filterUrl = 'station=QU39&status!=MISCAST&limit=-1'+fields\n",
    "df, url = hakai_qc.get.hakai_ctd_data(filterUrl)\n",
    "print(str(len(df))+' records found')\n",
    "\n",
    "# Regroup profiles and sort them by pressure\n",
    "group_variables = ['device_model','device_sn','ctd_file_pk','ctd_cast_pk','direction_flag']\n",
    "df = df.sort_values(by=group_variables+['pressure'])\n",
    "\n",
    "# Get Derived Variables\n",
    "df = hakai_qc.utils.derived_ocean_variables(df)\n",
    "\n",
    "# Just show the first few lines to have a look\n",
    "df.head() # Show the top of the data frame"
   ]
  },
  {
   "cell_type": "markdown",
   "metadata": {},
   "source": [
    "## Hakai CTD Profile QA/QC Test Configuration\n",
    "\n",
    "This step imports and configures (i.e sets test thresholds) the QA/QC tests that will be applied to the Hakai CTD data uploaded from the database. \n",
    "\n",
    "New tests can be added by following the structure within the code block below. For additional information on the different tests available, please look at the [ioos_qc webpage](https://ioos.github.io/ioos_qc/api/ioos_qc.html).\n",
    "\n",
    "Test thresholds can be modified using the structure provided in the fluoroescence example below. Variable abbreviations, required to change the thresholds, will appear in a table once this code block has been run.\n"
   ]
  },
  {
   "cell_type": "code",
   "execution_count": 5,
   "metadata": {},
   "outputs": [
    {
     "data": {
      "text/html": [
       "<div>\n",
       "<style scoped>\n",
       "    .dataframe tbody tr th:only-of-type {\n",
       "        vertical-align: middle;\n",
       "    }\n",
       "\n",
       "    .dataframe tbody tr th {\n",
       "        vertical-align: top;\n",
       "    }\n",
       "\n",
       "    .dataframe thead th {\n",
       "        text-align: right;\n",
       "    }\n",
       "</style>\n",
       "<table border=\"1\" class=\"dataframe\">\n",
       "  <thead>\n",
       "    <tr style=\"text-align: right;\">\n",
       "      <th></th>\n",
       "      <th></th>\n",
       "      <th></th>\n",
       "      <th></th>\n",
       "      <th>Value</th>\n",
       "    </tr>\n",
       "    <tr>\n",
       "      <th>Variable</th>\n",
       "      <th>Module</th>\n",
       "      <th>Test</th>\n",
       "      <th>Input</th>\n",
       "      <th></th>\n",
       "    </tr>\n",
       "  </thead>\n",
       "  <tbody>\n",
       "    <tr>\n",
       "      <th rowspan=\"2\" valign=\"top\">position</th>\n",
       "      <th rowspan=\"2\" valign=\"top\">qartod</th>\n",
       "      <th rowspan=\"2\" valign=\"top\">location_test</th>\n",
       "      <th>bbox</th>\n",
       "      <td>[-180, -90, 180, 90]</td>\n",
       "    </tr>\n",
       "    <tr>\n",
       "      <th>target_range</th>\n",
       "      <td>[1000]</td>\n",
       "    </tr>\n",
       "    <tr>\n",
       "      <th rowspan=\"4\" valign=\"top\">pressure</th>\n",
       "      <th rowspan=\"4\" valign=\"top\">qartod</th>\n",
       "      <th rowspan=\"4\" valign=\"top\">gross_range_test</th>\n",
       "      <th>fail_span</th>\n",
       "      <td>[0, 12000]</td>\n",
       "    </tr>\n",
       "    <tr>\n",
       "      <th>maximum_fail_depth_ratio</th>\n",
       "      <td>1.1</td>\n",
       "    </tr>\n",
       "    <tr>\n",
       "      <th>maximum_suspect_depth_ratio</th>\n",
       "      <td>1.05</td>\n",
       "    </tr>\n",
       "    <tr>\n",
       "      <th>suspect_span</th>\n",
       "      <td>[0, 12000]</td>\n",
       "    </tr>\n",
       "    <tr>\n",
       "      <th rowspan=\"4\" valign=\"top\">depth</th>\n",
       "      <th rowspan=\"4\" valign=\"top\">qartod</th>\n",
       "      <th rowspan=\"4\" valign=\"top\">gross_range_test</th>\n",
       "      <th>fail_span</th>\n",
       "      <td>[0, 12000]</td>\n",
       "    </tr>\n",
       "    <tr>\n",
       "      <th>maximum_fail_depth_ratio</th>\n",
       "      <td>1.1</td>\n",
       "    </tr>\n",
       "    <tr>\n",
       "      <th>maximum_suspect_depth_ratio</th>\n",
       "      <td>1.05</td>\n",
       "    </tr>\n",
       "    <tr>\n",
       "      <th>suspect_span</th>\n",
       "      <td>[0, 12000]</td>\n",
       "    </tr>\n",
       "    <tr>\n",
       "      <th rowspan=\"8\" valign=\"top\">dissolved_oxygen_ml_l</th>\n",
       "      <th rowspan=\"8\" valign=\"top\">qartod</th>\n",
       "      <th rowspan=\"2\" valign=\"top\">gross_range_test</th>\n",
       "      <th>fail_span</th>\n",
       "      <td>[0, 20]</td>\n",
       "    </tr>\n",
       "    <tr>\n",
       "      <th>suspect_span</th>\n",
       "      <td>[1, 15]</td>\n",
       "    </tr>\n",
       "    <tr>\n",
       "      <th>rate_of_change_test</th>\n",
       "      <th>threshold</th>\n",
       "      <td>3</td>\n",
       "    </tr>\n",
       "    <tr>\n",
       "      <th rowspan=\"2\" valign=\"top\">spike_test</th>\n",
       "      <th>suspect_threshold</th>\n",
       "      <td>0.5</td>\n",
       "    </tr>\n",
       "    <tr>\n",
       "      <th>fail_threshold</th>\n",
       "      <td>1</td>\n",
       "    </tr>\n",
       "    <tr>\n",
       "      <th rowspan=\"3\" valign=\"top\">attenuated_signal_test</th>\n",
       "      <th>suspect_threshold</th>\n",
       "      <td>0.1</td>\n",
       "    </tr>\n",
       "    <tr>\n",
       "      <th>fail_threshold</th>\n",
       "      <td>0.01</td>\n",
       "    </tr>\n",
       "    <tr>\n",
       "      <th>check_type</th>\n",
       "      <td>range</td>\n",
       "    </tr>\n",
       "    <tr>\n",
       "      <th rowspan=\"8\" valign=\"top\">rinko_do_ml_l</th>\n",
       "      <th rowspan=\"8\" valign=\"top\">qartod</th>\n",
       "      <th rowspan=\"2\" valign=\"top\">gross_range_test</th>\n",
       "      <th>fail_span</th>\n",
       "      <td>[0, 20]</td>\n",
       "    </tr>\n",
       "    <tr>\n",
       "      <th>suspect_span</th>\n",
       "      <td>[1, 15]</td>\n",
       "    </tr>\n",
       "    <tr>\n",
       "      <th>rate_of_change_test</th>\n",
       "      <th>threshold</th>\n",
       "      <td>3</td>\n",
       "    </tr>\n",
       "    <tr>\n",
       "      <th rowspan=\"2\" valign=\"top\">spike_test</th>\n",
       "      <th>suspect_threshold</th>\n",
       "      <td>0.5</td>\n",
       "    </tr>\n",
       "    <tr>\n",
       "      <th>fail_threshold</th>\n",
       "      <td>1</td>\n",
       "    </tr>\n",
       "    <tr>\n",
       "      <th rowspan=\"3\" valign=\"top\">attenuated_signal_test</th>\n",
       "      <th>suspect_threshold</th>\n",
       "      <td>0.1</td>\n",
       "    </tr>\n",
       "    <tr>\n",
       "      <th>fail_threshold</th>\n",
       "      <td>0.01</td>\n",
       "    </tr>\n",
       "    <tr>\n",
       "      <th>check_type</th>\n",
       "      <td>range</td>\n",
       "    </tr>\n",
       "    <tr>\n",
       "      <th rowspan=\"5\" valign=\"top\">turbidity</th>\n",
       "      <th rowspan=\"5\" valign=\"top\">qartod</th>\n",
       "      <th rowspan=\"2\" valign=\"top\">gross_range_test</th>\n",
       "      <th>fail_span</th>\n",
       "      <td>[-0.1, 10000]</td>\n",
       "    </tr>\n",
       "    <tr>\n",
       "      <th>suspect_span</th>\n",
       "      <td>[0, 1000]</td>\n",
       "    </tr>\n",
       "    <tr>\n",
       "      <th rowspan=\"3\" valign=\"top\">attenuated_signal_test</th>\n",
       "      <th>suspect_threshold</th>\n",
       "      <td>0.01</td>\n",
       "    </tr>\n",
       "    <tr>\n",
       "      <th>fail_threshold</th>\n",
       "      <td>0.001</td>\n",
       "    </tr>\n",
       "    <tr>\n",
       "      <th>check_type</th>\n",
       "      <td>range</td>\n",
       "    </tr>\n",
       "    <tr>\n",
       "      <th rowspan=\"5\" valign=\"top\">c_star_at</th>\n",
       "      <th rowspan=\"5\" valign=\"top\">qartod</th>\n",
       "      <th rowspan=\"3\" valign=\"top\">attenuated_signal_test</th>\n",
       "      <th>suspect_threshold</th>\n",
       "      <td>0.002</td>\n",
       "    </tr>\n",
       "    <tr>\n",
       "      <th>fail_threshold</th>\n",
       "      <td>0.0001</td>\n",
       "    </tr>\n",
       "    <tr>\n",
       "      <th>check_type</th>\n",
       "      <td>range</td>\n",
       "    </tr>\n",
       "    <tr>\n",
       "      <th rowspan=\"2\" valign=\"top\">spike_test</th>\n",
       "      <th>suspect_threshold</th>\n",
       "      <td>0.5</td>\n",
       "    </tr>\n",
       "    <tr>\n",
       "      <th>fail_threshold</th>\n",
       "      <td>1</td>\n",
       "    </tr>\n",
       "    <tr>\n",
       "      <th rowspan=\"6\" valign=\"top\">par</th>\n",
       "      <th rowspan=\"6\" valign=\"top\">qartod</th>\n",
       "      <th rowspan=\"2\" valign=\"top\">gross_range_test</th>\n",
       "      <th>fail_span</th>\n",
       "      <td>[-0.2, 100000]</td>\n",
       "    </tr>\n",
       "    <tr>\n",
       "      <th>suspect_span</th>\n",
       "      <td>[0, 50000]</td>\n",
       "    </tr>\n",
       "    <tr>\n",
       "      <th rowspan=\"4\" valign=\"top\">attenuated_signal_test</th>\n",
       "      <th>suspect_threshold</th>\n",
       "      <td>0.05</td>\n",
       "    </tr>\n",
       "    <tr>\n",
       "      <th>fail_threshold</th>\n",
       "      <td>0.02</td>\n",
       "    </tr>\n",
       "    <tr>\n",
       "      <th>check_type</th>\n",
       "      <td>std</td>\n",
       "    </tr>\n",
       "    <tr>\n",
       "      <th>min_obs</th>\n",
       "      <td>5</td>\n",
       "    </tr>\n",
       "    <tr>\n",
       "      <th rowspan=\"5\" valign=\"top\">salinity</th>\n",
       "      <th rowspan=\"5\" valign=\"top\">qartod</th>\n",
       "      <th rowspan=\"2\" valign=\"top\">gross_range_test</th>\n",
       "      <th>fail_span</th>\n",
       "      <td>[0, 45]</td>\n",
       "    </tr>\n",
       "    <tr>\n",
       "      <th>suspect_span</th>\n",
       "      <td>[2, 42]</td>\n",
       "    </tr>\n",
       "    <tr>\n",
       "      <th rowspan=\"2\" valign=\"top\">spike_test</th>\n",
       "      <th>suspect_threshold</th>\n",
       "      <td>0.5</td>\n",
       "    </tr>\n",
       "    <tr>\n",
       "      <th>fail_threshold</th>\n",
       "      <td>1</td>\n",
       "    </tr>\n",
       "    <tr>\n",
       "      <th>rate_of_change_test</th>\n",
       "      <th>threshold</th>\n",
       "      <td>5</td>\n",
       "    </tr>\n",
       "    <tr>\n",
       "      <th rowspan=\"3\" valign=\"top\">temperature</th>\n",
       "      <th rowspan=\"3\" valign=\"top\">qartod</th>\n",
       "      <th rowspan=\"2\" valign=\"top\">gross_range_test</th>\n",
       "      <th>fail_span</th>\n",
       "      <td>[-2, 100]</td>\n",
       "    </tr>\n",
       "    <tr>\n",
       "      <th>suspect_span</th>\n",
       "      <td>[-2, 40]</td>\n",
       "    </tr>\n",
       "    <tr>\n",
       "      <th>rate_of_change_test</th>\n",
       "      <th>threshold</th>\n",
       "      <td>5</td>\n",
       "    </tr>\n",
       "    <tr>\n",
       "      <th rowspan=\"2\" valign=\"top\">conductivity</th>\n",
       "      <th rowspan=\"2\" valign=\"top\">qartod</th>\n",
       "      <th rowspan=\"2\" valign=\"top\">gross_range_test</th>\n",
       "      <th>fail_span</th>\n",
       "      <td>[-0.1, 100]</td>\n",
       "    </tr>\n",
       "    <tr>\n",
       "      <th>suspect_span</th>\n",
       "      <td>[0, 100]</td>\n",
       "    </tr>\n",
       "    <tr>\n",
       "      <th rowspan=\"2\" valign=\"top\">sigma0</th>\n",
       "      <th rowspan=\"2\" valign=\"top\">qartod</th>\n",
       "      <th rowspan=\"2\" valign=\"top\">density_inversion_test</th>\n",
       "      <th>fail_threshold</th>\n",
       "      <td>-0.03</td>\n",
       "    </tr>\n",
       "    <tr>\n",
       "      <th>suspect_threshold</th>\n",
       "      <td>-0.005</td>\n",
       "    </tr>\n",
       "    <tr>\n",
       "      <th rowspan=\"2\" valign=\"top\">flc</th>\n",
       "      <th rowspan=\"2\" valign=\"top\">qartod</th>\n",
       "      <th rowspan=\"2\" valign=\"top\">gross_range_test</th>\n",
       "      <th>fail_span</th>\n",
       "      <td>[-0.5, 100]</td>\n",
       "    </tr>\n",
       "    <tr>\n",
       "      <th>suspect_span</th>\n",
       "      <td>[0, 70]</td>\n",
       "    </tr>\n",
       "  </tbody>\n",
       "</table>\n",
       "</div>"
      ],
      "text/plain": [
       "                                                                                                Value\n",
       "Variable              Module Test                   Input                                            \n",
       "position              qartod location_test          bbox                         [-180, -90, 180, 90]\n",
       "                                                    target_range                               [1000]\n",
       "pressure              qartod gross_range_test       fail_span                              [0, 12000]\n",
       "                                                    maximum_fail_depth_ratio                      1.1\n",
       "                                                    maximum_suspect_depth_ratio                  1.05\n",
       "                                                    suspect_span                           [0, 12000]\n",
       "depth                 qartod gross_range_test       fail_span                              [0, 12000]\n",
       "                                                    maximum_fail_depth_ratio                      1.1\n",
       "                                                    maximum_suspect_depth_ratio                  1.05\n",
       "                                                    suspect_span                           [0, 12000]\n",
       "dissolved_oxygen_ml_l qartod gross_range_test       fail_span                                 [0, 20]\n",
       "                                                    suspect_span                              [1, 15]\n",
       "                             rate_of_change_test    threshold                                       3\n",
       "                             spike_test             suspect_threshold                             0.5\n",
       "                                                    fail_threshold                                  1\n",
       "                             attenuated_signal_test suspect_threshold                             0.1\n",
       "                                                    fail_threshold                               0.01\n",
       "                                                    check_type                                  range\n",
       "rinko_do_ml_l         qartod gross_range_test       fail_span                                 [0, 20]\n",
       "                                                    suspect_span                              [1, 15]\n",
       "                             rate_of_change_test    threshold                                       3\n",
       "                             spike_test             suspect_threshold                             0.5\n",
       "                                                    fail_threshold                                  1\n",
       "                             attenuated_signal_test suspect_threshold                             0.1\n",
       "                                                    fail_threshold                               0.01\n",
       "                                                    check_type                                  range\n",
       "turbidity             qartod gross_range_test       fail_span                           [-0.1, 10000]\n",
       "                                                    suspect_span                            [0, 1000]\n",
       "                             attenuated_signal_test suspect_threshold                            0.01\n",
       "                                                    fail_threshold                              0.001\n",
       "                                                    check_type                                  range\n",
       "c_star_at             qartod attenuated_signal_test suspect_threshold                           0.002\n",
       "                                                    fail_threshold                             0.0001\n",
       "                                                    check_type                                  range\n",
       "                             spike_test             suspect_threshold                             0.5\n",
       "                                                    fail_threshold                                  1\n",
       "par                   qartod gross_range_test       fail_span                          [-0.2, 100000]\n",
       "                                                    suspect_span                           [0, 50000]\n",
       "                             attenuated_signal_test suspect_threshold                            0.05\n",
       "                                                    fail_threshold                               0.02\n",
       "                                                    check_type                                    std\n",
       "                                                    min_obs                                         5\n",
       "salinity              qartod gross_range_test       fail_span                                 [0, 45]\n",
       "                                                    suspect_span                              [2, 42]\n",
       "                             spike_test             suspect_threshold                             0.5\n",
       "                                                    fail_threshold                                  1\n",
       "                             rate_of_change_test    threshold                                       5\n",
       "temperature           qartod gross_range_test       fail_span                               [-2, 100]\n",
       "                                                    suspect_span                             [-2, 40]\n",
       "                             rate_of_change_test    threshold                                       5\n",
       "conductivity          qartod gross_range_test       fail_span                             [-0.1, 100]\n",
       "                                                    suspect_span                             [0, 100]\n",
       "sigma0                qartod density_inversion_test fail_threshold                              -0.03\n",
       "                                                    suspect_threshold                          -0.005\n",
       "flc                   qartod gross_range_test       fail_span                             [-0.5, 100]\n",
       "                                                    suspect_span                              [0, 70]"
      ]
     },
     "execution_count": 5,
     "metadata": {},
     "output_type": "execute_result"
    }
   ],
   "source": [
    "# Load default test parameters used right now!\n",
    "qc_config = hakai_qc.get.json_config('hakai_ctd_profile.json')\n",
    "\n",
    "#Test parameters can be modified below following the provided format for fluorescence \n",
    "#ex: This code sets the range outside of which fluorescence is considered suspect and implausible (fail) \n",
    "qc_config['flc']= {'qartod': {\n",
    "                        'gross_range_test': {   \n",
    "                            \"suspect_span\": [0, 70],\n",
    "                            \"fail_span\": [-.5, 100],\n",
    "                        }\n",
    "                   }}\n",
    "\n",
    "target = {'target_range':[1000]}\n",
    "qc_config['position']['qartod']['location_test'].update(target)\n",
    "\n",
    "# Displays the QC/QA test parameters in a table\n",
    "hakai_qc.get.config_as_dataframe(qc_config)"
   ]
  },
  {
   "cell_type": "markdown",
   "metadata": {},
   "source": [
    "## Apply QA/QC Tests to CTD Profiles\n",
    "\n",
    "The QA/QC tests and thresholds defined in the above code block/table are applied to the CTD data on a profile by profile basis. Only profiles from the pre-selected station will be evaluated. "
   ]
  },
  {
   "cell_type": "code",
   "execution_count": 6,
   "metadata": {},
   "outputs": [
    {
     "name": "stdout",
     "output_type": "stream",
     "text": [
      "QAQC QU39\n",
      "  position\n",
      "    qartod\n",
      "      ('location_test', {'bbox': [-180, -90, 180, 90], 'target_range': [1000], 'target_lat': [50.0307000000001], 'target_lon': [-125.0992]})\n",
      "  pressure\n",
      "    qartod\n",
      "      ('gross_range_test', {'suspect_span': [0, 280.83826311944904], 'fail_span': [0, 294.2115137441847], 'maximum_suspect_depth_ratio': 1.05, 'maximum_fail_depth_ratio': 1.1})\n",
      "  depth\n",
      "    qartod\n",
      "      ('gross_range_test', {'suspect_span': [0, 278.25], 'fail_span': [0, 291.5], 'maximum_suspect_depth_ratio': 1.05, 'maximum_fail_depth_ratio': 1.1})\n",
      "  dissolved_oxygen_ml_l\n",
      "    qartod\n",
      "      ('gross_range_test', {'fail_span': [0, 20], 'suspect_span': [1, 15]})\n",
      "      ('rate_of_change_test', {'threshold': 3})\n",
      "      ('spike_test', {'suspect_threshold': 0.5, 'fail_threshold': 1})\n",
      "      ('attenuated_signal_test', {'suspect_threshold': 0.1, 'fail_threshold': 0.01, 'check_type': 'range'})\n",
      "  rinko_do_ml_l\n",
      "    qartod\n",
      "      ('gross_range_test', {'fail_span': [0, 20], 'suspect_span': [1, 15]})\n",
      "      ('rate_of_change_test', {'threshold': 3})\n",
      "      ('spike_test', {'suspect_threshold': 0.5, 'fail_threshold': 1})\n",
      "      ('attenuated_signal_test', {'suspect_threshold': 0.1, 'fail_threshold': 0.01, 'check_type': 'range'})\n",
      "  turbidity\n",
      "    qartod\n",
      "      ('gross_range_test', {'fail_span': [-0.1, 10000], 'suspect_span': [0, 1000]})\n",
      "      ('attenuated_signal_test', {'suspect_threshold': 0.01, 'fail_threshold': 0.001, 'check_type': 'range'})\n",
      "  c_star_at\n",
      "    qartod\n",
      "      ('attenuated_signal_test', {'suspect_threshold': 0.002, 'fail_threshold': 0.0001, 'check_type': 'range'})\n",
      "      ('spike_test', {'suspect_threshold': 0.5, 'fail_threshold': 1})\n",
      "  par\n",
      "    qartod\n",
      "      ('gross_range_test', {'fail_span': [-0.2, 100000], 'suspect_span': [0, 50000]})\n",
      "      ('attenuated_signal_test', {'suspect_threshold': 0.05, 'fail_threshold': 0.02, 'check_type': 'std', 'min_obs': 5})\n",
      "  salinity\n",
      "    qartod\n",
      "      ('gross_range_test', {'fail_span': [0, 45], 'suspect_span': [2, 42]})\n",
      "      ('spike_test', {'suspect_threshold': 0.5, 'fail_threshold': 1})\n",
      "      ('rate_of_change_test', {'threshold': 5})\n",
      "  temperature\n",
      "    qartod\n",
      "      ('gross_range_test', {'fail_span': [-2, 100], 'suspect_span': [-2, 40]})\n",
      "      ('rate_of_change_test', {'threshold': 5})\n",
      "  conductivity\n",
      "    qartod\n",
      "      ('gross_range_test', {'fail_span': [-0.1, 100], 'suspect_span': [0, 100]})\n",
      "  sigma0\n",
      "    qartod\n",
      "      ('density_inversion_test', {'suspect_threshold': -0.005, 'fail_threshold': -0.03})\n",
      "  flc\n",
      "    qartod\n",
      "      ('gross_range_test', {'suspect_span': [0, 70], 'fail_span': [-0.5, 100]})\n",
      "Apply DO Cap Detection to dissolved_oxygen_ml_l variable\n",
      "Apply DO Cap Detection to rinko_do_ml_l variable\n",
      "Flag Missing Position Records\n",
      "Flag Bottom Hit Data\n",
      "Flag PAR Shadow Data\n",
      "Apply flag results to position\n",
      "Apply flag results to pressure\n",
      "Apply flag results to depth\n",
      "Apply flag results to dissolved_oxygen_ml_l\n",
      "Apply flag results to rinko_do_ml_l\n",
      "Apply flag results to turbidity\n",
      "Apply flag results to c_star_at\n",
      "Apply flag results to par\n",
      "Apply flag results to salinity\n",
      "Apply flag results to temperature\n",
      "Apply flag results to conductivity\n",
      "Apply flag results to sigma0\n",
      "Apply flag results to flc\n"
     ]
    }
   ],
   "source": [
    "# Run all of the tests on each available profile\n",
    "df = hakai_qc.run.tests_on_profiles(df,hakai_stations,qc_config)"
   ]
  },
  {
   "cell_type": "markdown",
   "metadata": {},
   "source": [
    "## Review Results\n",
    "###  Profile location versus target location\n",
    "This section present the CTD profile qartod location_test result which is comparing the CTD drop location versus the target station coordinates as defined in the Hakai Station Master list. We present here all the drops that failed the test:"
   ]
  },
  {
   "cell_type": "code",
   "execution_count": 7,
   "metadata": {},
   "outputs": [
    {
     "data": {
      "text/html": [
       "<div>\n",
       "<style scoped>\n",
       "    .dataframe tbody tr th:only-of-type {\n",
       "        vertical-align: middle;\n",
       "    }\n",
       "\n",
       "    .dataframe tbody tr th {\n",
       "        vertical-align: top;\n",
       "    }\n",
       "\n",
       "    .dataframe thead th {\n",
       "        text-align: right;\n",
       "    }\n",
       "</style>\n",
       "<table border=\"1\" class=\"dataframe\">\n",
       "  <thead>\n",
       "    <tr style=\"text-align: right;\">\n",
       "      <th></th>\n",
       "      <th>position_qartod_location_test</th>\n",
       "      <th>station</th>\n",
       "      <th>latitude</th>\n",
       "      <th>longitude</th>\n",
       "      <th>measurement_dt</th>\n",
       "    </tr>\n",
       "    <tr>\n",
       "      <th>hakai_id</th>\n",
       "      <th></th>\n",
       "      <th></th>\n",
       "      <th></th>\n",
       "      <th></th>\n",
       "      <th></th>\n",
       "    </tr>\n",
       "  </thead>\n",
       "  <tbody>\n",
       "    <tr>\n",
       "      <th>01907674_2017-07-17T16:02:34Z</th>\n",
       "      <td>9.0</td>\n",
       "      <td>QU39</td>\n",
       "      <td>NaN</td>\n",
       "      <td>NaN</td>\n",
       "      <td>2017-07-17T16:05:50.163Z</td>\n",
       "    </tr>\n",
       "    <tr>\n",
       "      <th>01907674_2017-07-24T15:05:54Z</th>\n",
       "      <td>3.0</td>\n",
       "      <td>QU39</td>\n",
       "      <td>50.038057</td>\n",
       "      <td>-125.109211</td>\n",
       "      <td>2017-07-24T15:08:46.371Z</td>\n",
       "    </tr>\n",
       "    <tr>\n",
       "      <th>01907674_2017-08-08T15:09:00Z</th>\n",
       "      <td>9.0</td>\n",
       "      <td>QU39</td>\n",
       "      <td>NaN</td>\n",
       "      <td>NaN</td>\n",
       "      <td>2017-08-08T15:12:13.829Z</td>\n",
       "    </tr>\n",
       "    <tr>\n",
       "      <th>01907674_2017-08-08T16:34:48Z</th>\n",
       "      <td>9.0</td>\n",
       "      <td>QU39</td>\n",
       "      <td>NaN</td>\n",
       "      <td>NaN</td>\n",
       "      <td>2017-08-08T16:37:38.271Z</td>\n",
       "    </tr>\n",
       "    <tr>\n",
       "      <th>01907674_2018-01-09T18:14:24Z</th>\n",
       "      <td>9.0</td>\n",
       "      <td>QU39</td>\n",
       "      <td>NaN</td>\n",
       "      <td>NaN</td>\n",
       "      <td>2018-01-09T18:16:30.149Z</td>\n",
       "    </tr>\n",
       "    <tr>\n",
       "      <th>01907674_2018-12-04T17:11:03Z</th>\n",
       "      <td>9.0</td>\n",
       "      <td>QU39</td>\n",
       "      <td>NaN</td>\n",
       "      <td>NaN</td>\n",
       "      <td>2018-12-04T17:14:32.752Z</td>\n",
       "    </tr>\n",
       "    <tr>\n",
       "      <th>01907674_2018-12-05T19:56:38Z</th>\n",
       "      <td>9.0</td>\n",
       "      <td>QU39</td>\n",
       "      <td>NaN</td>\n",
       "      <td>NaN</td>\n",
       "      <td>2018-12-05T20:01:38.857Z</td>\n",
       "    </tr>\n",
       "    <tr>\n",
       "      <th>01907674_2018-12-19T17:30:29Z</th>\n",
       "      <td>9.0</td>\n",
       "      <td>QU39</td>\n",
       "      <td>NaN</td>\n",
       "      <td>NaN</td>\n",
       "      <td>2018-12-19T17:32:10.502Z</td>\n",
       "    </tr>\n",
       "    <tr>\n",
       "      <th>01907674_2019-07-03T17:47:15Z</th>\n",
       "      <td>3.0</td>\n",
       "      <td>QU39</td>\n",
       "      <td>50.190470</td>\n",
       "      <td>-124.996663</td>\n",
       "      <td>2019-07-03T17:50:41.419Z</td>\n",
       "    </tr>\n",
       "    <tr>\n",
       "      <th>01907674_2020-06-30T17:07:59Z</th>\n",
       "      <td>9.0</td>\n",
       "      <td>QU39</td>\n",
       "      <td>NaN</td>\n",
       "      <td>NaN</td>\n",
       "      <td>2020-06-30T17:12:44.158Z</td>\n",
       "    </tr>\n",
       "    <tr>\n",
       "      <th>080217_2017-02-17T16:23:11.500Z</th>\n",
       "      <td>9.0</td>\n",
       "      <td>QU39</td>\n",
       "      <td>NaN</td>\n",
       "      <td>NaN</td>\n",
       "      <td>2017-02-17T16:23:12.333Z</td>\n",
       "    </tr>\n",
       "  </tbody>\n",
       "</table>\n",
       "</div>"
      ],
      "text/plain": [
       "                                 position_qartod_location_test station  \\\n",
       "hakai_id                                                                 \n",
       "01907674_2017-07-17T16:02:34Z                              9.0    QU39   \n",
       "01907674_2017-07-24T15:05:54Z                              3.0    QU39   \n",
       "01907674_2017-08-08T15:09:00Z                              9.0    QU39   \n",
       "01907674_2017-08-08T16:34:48Z                              9.0    QU39   \n",
       "01907674_2018-01-09T18:14:24Z                              9.0    QU39   \n",
       "01907674_2018-12-04T17:11:03Z                              9.0    QU39   \n",
       "01907674_2018-12-05T19:56:38Z                              9.0    QU39   \n",
       "01907674_2018-12-19T17:30:29Z                              9.0    QU39   \n",
       "01907674_2019-07-03T17:47:15Z                              3.0    QU39   \n",
       "01907674_2020-06-30T17:07:59Z                              9.0    QU39   \n",
       "080217_2017-02-17T16:23:11.500Z                            9.0    QU39   \n",
       "\n",
       "                                  latitude   longitude  \\\n",
       "hakai_id                                                 \n",
       "01907674_2017-07-17T16:02:34Z          NaN         NaN   \n",
       "01907674_2017-07-24T15:05:54Z    50.038057 -125.109211   \n",
       "01907674_2017-08-08T15:09:00Z          NaN         NaN   \n",
       "01907674_2017-08-08T16:34:48Z          NaN         NaN   \n",
       "01907674_2018-01-09T18:14:24Z          NaN         NaN   \n",
       "01907674_2018-12-04T17:11:03Z          NaN         NaN   \n",
       "01907674_2018-12-05T19:56:38Z          NaN         NaN   \n",
       "01907674_2018-12-19T17:30:29Z          NaN         NaN   \n",
       "01907674_2019-07-03T17:47:15Z    50.190470 -124.996663   \n",
       "01907674_2020-06-30T17:07:59Z          NaN         NaN   \n",
       "080217_2017-02-17T16:23:11.500Z        NaN         NaN   \n",
       "\n",
       "                                           measurement_dt  \n",
       "hakai_id                                                   \n",
       "01907674_2017-07-17T16:02:34Z    2017-07-17T16:05:50.163Z  \n",
       "01907674_2017-07-24T15:05:54Z    2017-07-24T15:08:46.371Z  \n",
       "01907674_2017-08-08T15:09:00Z    2017-08-08T15:12:13.829Z  \n",
       "01907674_2017-08-08T16:34:48Z    2017-08-08T16:37:38.271Z  \n",
       "01907674_2018-01-09T18:14:24Z    2018-01-09T18:16:30.149Z  \n",
       "01907674_2018-12-04T17:11:03Z    2018-12-04T17:14:32.752Z  \n",
       "01907674_2018-12-05T19:56:38Z    2018-12-05T20:01:38.857Z  \n",
       "01907674_2018-12-19T17:30:29Z    2018-12-19T17:32:10.502Z  \n",
       "01907674_2019-07-03T17:47:15Z    2019-07-03T17:50:41.419Z  \n",
       "01907674_2020-06-30T17:07:59Z    2020-06-30T17:12:44.158Z  \n",
       "080217_2017-02-17T16:23:11.500Z  2017-02-17T16:23:12.333Z  "
      ]
     },
     "execution_count": 7,
     "metadata": {},
     "output_type": "execute_result"
    }
   ],
   "source": [
    "# Output all drops with flagged positions that exceed the distance threshold or do not display coordinates (NaN)\n",
    "#  ignore rows where a depth value does not exist.\n",
    "df[df['position_qartod_location_test']>1].dropna(\n",
    "    axis=0,subset=['depth']).groupby(\n",
    "    'hakai_id').first()[['position_qartod_location_test','station','latitude','longitude','measurement_dt']]"
   ]
  },
  {
   "cell_type": "code",
   "execution_count": 8,
   "metadata": {},
   "outputs": [
    {
     "data": {
      "text/html": [
       "<div style=\"width:100%;\"><div style=\"position:relative;width:100%;height:0;padding-bottom:60%;\"><span style=\"color:#565656\">Make this Notebook Trusted to load map: File -> Trust Notebook</span><iframe src=\"about:blank\" style=\"position:absolute;width:100%;height:100%;left:0;top:0;border:none !important;\" data-html=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 onload=\"this.contentDocument.open();this.contentDocument.write(atob(this.getAttribute('data-html')));this.contentDocument.close();\" allowfullscreen webkitallowfullscreen mozallowfullscreen></iframe></div></div>"
      ],
      "text/plain": [
       "<folium.folium.Map at 0x149755a5518>"
      ]
     },
     "execution_count": 8,
     "metadata": {},
     "output_type": "execute_result"
    }
   ],
   "source": [
    "# Display the CTD profiles with flagged GPS coordinates\n",
    "m = hakai_qc.get.flag_result_map(df.dropna(axis=0,subset=['latitude','longitude','depth']),\n",
    "                                 flag_variable='position_qartod_location_test')\n",
    "m"
   ]
  },
  {
   "cell_type": "markdown",
   "metadata": {},
   "source": [
    "### Review Profile test flags\n",
    "We present here an interactive way of plotting and reviewing the different flags. Just run the following cell and interact with the figure below.\n",
    "\n",
    "#### First let's review statistically the results of the tests!"
   ]
  },
  {
   "cell_type": "code",
   "execution_count": 236,
   "metadata": {},
   "outputs": [
    {
     "data": {
      "application/vnd.plotly.v1+json": {
       "config": {
        "plotlyServerURL": "https://plot.ly"
       },
       "data": [
        {
         "alignmentgroup": "True",
         "hovertemplate": "Flag=1<br>Count=%{x}<br>Test=%{y}<extra></extra>",
         "legendgroup": "1",
         "marker": {
          "color": "green"
         },
         "name": "1",
         "offsetgroup": "1",
         "orientation": "h",
         "showlegend": true,
         "textposition": "auto",
         "type": "bar",
         "x": [
          135751,
          19026,
          133059,
          21044,
          134569,
          135845,
          135269,
          135841,
          133630,
          131831,
          133536,
          134360,
          133229,
          135265,
          135841,
          129314,
          122272,
          119986,
          135158,
          135269,
          132881,
          135269,
          135845,
          43001,
          132694,
          43000,
          43000,
          42654,
          134560,
          135845,
          135845,
          134702,
          132548,
          134569,
          134569,
          135845,
          135845,
          135844,
          135232,
          135809
         ],
         "xaxis": "x",
         "y": [
          "bottom_hit_flag",
          "c_star_at_qartod_attenuated_signal_test",
          "c_star_at_qartod_flag",
          "c_star_at_qartod_spike_test",
          "conductivity_qartod_flag",
          "conductivity_qartod_gross_range_test",
          "depth_qartod_flag",
          "depth_qartod_gross_range_test",
          "dissolved_oxygen_ml_l_qartod_attenuated_signal_test",
          "dissolved_oxygen_ml_l_qartod_flag",
          "dissolved_oxygen_ml_l_qartod_gross_range_test",
          "dissolved_oxygen_ml_l_qartod_rate_of_change_test",
          "dissolved_oxygen_ml_l_qartod_spike_test",
          "flc_qartod_flag",
          "flc_qartod_gross_range_test",
          "par_qartod_attenuated_signal_test",
          "par_qartod_flag",
          "par_qartod_gross_range_test",
          "par_shadow_flag",
          "position_qartod_flag",
          "position_qartod_location_test",
          "pressure_qartod_flag",
          "pressure_qartod_gross_range_test",
          "rinko_do_ml_l_qartod_attenuated_signal_test",
          "rinko_do_ml_l_qartod_flag",
          "rinko_do_ml_l_qartod_gross_range_test",
          "rinko_do_ml_l_qartod_rate_of_change_test",
          "rinko_do_ml_l_qartod_spike_test",
          "salinity_qartod_flag",
          "salinity_qartod_gross_range_test",
          "salinity_qartod_rate_of_change_test",
          "salinity_qartod_spike_test",
          "sigma0_qartod_density_inversion_test",
          "sigma0_qartod_flag",
          "temperature_qartod_flag",
          "temperature_qartod_gross_range_test",
          "temperature_qartod_rate_of_change_test",
          "turbidity_qartod_attenuated_signal_test",
          "turbidity_qartod_flag",
          "turbidity_qartod_gross_range_test"
         ],
         "yaxis": "y"
        },
        {
         "alignmentgroup": "True",
         "hovertemplate": "Flag=2<br>Count=%{x}<br>Test=%{y}<extra></extra>",
         "legendgroup": "2",
         "marker": {
          "color": "yellow"
         },
         "name": "2",
         "offsetgroup": "2",
         "orientation": "h",
         "showlegend": true,
         "textposition": "auto",
         "type": "bar",
         "x": [
          170,
          133288,
          1102,
          133288,
          346,
          1119,
          1
         ],
         "xaxis": "x",
         "y": [
          "c_star_at_qartod_spike_test",
          "dissolved_oxygen_ml_l_do_cap_flag",
          "dissolved_oxygen_ml_l_qartod_spike_test",
          "rinko_do_ml_l_do_cap_flag",
          "rinko_do_ml_l_qartod_spike_test",
          "salinity_qartod_spike_test",
          "sigma0_qartod_density_inversion_test"
         ],
         "yaxis": "y"
        },
        {
         "alignmentgroup": "True",
         "hovertemplate": "Flag=3<br>Count=%{x}<br>Test=%{y}<extra></extra>",
         "legendgroup": "3",
         "marker": {
          "color": "orange"
         },
         "name": "3",
         "offsetgroup": "3",
         "orientation": "h",
         "showlegend": true,
         "textposition": "auto",
         "type": "bar",
         "x": [
          2199,
          2679,
          2,
          1178,
          478,
          749,
          499,
          13,
          20,
          17,
          482,
          4,
          5260,
          4119,
          703,
          478,
          478,
          478,
          478,
          1,
          1184,
          16,
          810,
          1178,
          1178,
          479,
          1
         ],
         "xaxis": "x",
         "y": [
          "c_star_at_qartod_attenuated_signal_test",
          "c_star_at_qartod_flag",
          "c_star_at_qartod_spike_test",
          "conductivity_qartod_flag",
          "depth_qartod_flag",
          "dissolved_oxygen_ml_l_qartod_attenuated_signal_test",
          "dissolved_oxygen_ml_l_qartod_flag",
          "dissolved_oxygen_ml_l_qartod_gross_range_test",
          "dissolved_oxygen_ml_l_qartod_rate_of_change_test",
          "dissolved_oxygen_ml_l_qartod_spike_test",
          "flc_qartod_flag",
          "flc_qartod_gross_range_test",
          "par_qartod_flag",
          "par_qartod_gross_range_test",
          "par_shadow_flag",
          "position_qartod_flag",
          "position_qartod_location_test",
          "pressure_qartod_flag",
          "rinko_do_ml_l_qartod_flag",
          "rinko_do_ml_l_qartod_rate_of_change_test",
          "salinity_qartod_flag",
          "salinity_qartod_spike_test",
          "sigma0_qartod_density_inversion_test",
          "sigma0_qartod_flag",
          "temperature_qartod_flag",
          "turbidity_qartod_flag",
          "turbidity_qartod_gross_range_test"
         ],
         "yaxis": "y"
        },
        {
         "alignmentgroup": "True",
         "hovertemplate": "Flag=4<br>Count=%{x}<br>Test=%{y}<extra></extra>",
         "legendgroup": "4",
         "marker": {
          "color": "red"
         },
         "name": "4",
         "offsetgroup": "4",
         "orientation": "h",
         "showlegend": true,
         "textposition": "auto",
         "type": "bar",
         "x": [
          110,
          123,
          9,
          114,
          114,
          4,
          2573,
          1,
          3531,
          831,
          29,
          114,
          1505,
          8329,
          6714,
          114,
          114,
          2573,
          2689,
          1,
          1,
          117,
          8,
          114,
          114,
          1,
          150,
          35
         ],
         "xaxis": "x",
         "y": [
          "bottom_hit_flag",
          "c_star_at_qartod_flag",
          "c_star_at_qartod_spike_test",
          "conductivity_qartod_flag",
          "depth_qartod_flag",
          "depth_qartod_gross_range_test",
          "dissolved_oxygen_ml_l_do_cap_flag",
          "dissolved_oxygen_ml_l_qartod_attenuated_signal_test",
          "dissolved_oxygen_ml_l_qartod_flag",
          "dissolved_oxygen_ml_l_qartod_gross_range_test",
          "dissolved_oxygen_ml_l_qartod_spike_test",
          "flc_qartod_flag",
          "par_qartod_attenuated_signal_test",
          "par_qartod_flag",
          "par_qartod_gross_range_test",
          "position_qartod_flag",
          "pressure_qartod_flag",
          "rinko_do_ml_l_do_cap_flag",
          "rinko_do_ml_l_qartod_flag",
          "rinko_do_ml_l_qartod_gross_range_test",
          "rinko_do_ml_l_qartod_spike_test",
          "salinity_qartod_flag",
          "salinity_qartod_spike_test",
          "sigma0_qartod_flag",
          "temperature_qartod_flag",
          "turbidity_qartod_attenuated_signal_test",
          "turbidity_qartod_flag",
          "turbidity_qartod_gross_range_test"
         ],
         "yaxis": "y"
        },
        {
         "alignmentgroup": "True",
         "hovertemplate": "Flag=9<br>Count=%{x}<br>Test=%{y}<extra></extra>",
         "legendgroup": "9",
         "marker": {
          "color": "purple"
         },
         "name": "9",
         "offsetgroup": "9",
         "orientation": "h",
         "showlegend": true,
         "textposition": "auto",
         "type": "bar",
         "x": [
          114620,
          114620,
          1465,
          1465,
          1465,
          1468,
          5026,
          5026,
          2486,
          92844,
          92844,
          92844,
          92844,
          2486
         ],
         "xaxis": "x",
         "y": [
          "c_star_at_qartod_attenuated_signal_test",
          "c_star_at_qartod_spike_test",
          "dissolved_oxygen_ml_l_qartod_attenuated_signal_test",
          "dissolved_oxygen_ml_l_qartod_gross_range_test",
          "dissolved_oxygen_ml_l_qartod_rate_of_change_test",
          "dissolved_oxygen_ml_l_qartod_spike_test",
          "par_qartod_attenuated_signal_test",
          "par_qartod_gross_range_test",
          "position_qartod_location_test",
          "rinko_do_ml_l_qartod_attenuated_signal_test",
          "rinko_do_ml_l_qartod_gross_range_test",
          "rinko_do_ml_l_qartod_rate_of_change_test",
          "rinko_do_ml_l_qartod_spike_test",
          "sigma0_qartod_density_inversion_test"
         ],
         "yaxis": "y"
        }
       ],
       "layout": {
        "autosize": false,
        "barmode": "relative",
        "height": 1000,
        "legend": {
         "title": {
          "text": "Flag"
         },
         "tracegroupgap": 0
        },
        "margin": {
         "t": 60
        },
        "template": {
         "data": {
          "bar": [
           {
            "error_x": {
             "color": "#2a3f5f"
            },
            "error_y": {
             "color": "#2a3f5f"
            },
            "marker": {
             "line": {
              "color": "#E5ECF6",
              "width": 0.5
             }
            },
            "type": "bar"
           }
          ],
          "barpolar": [
           {
            "marker": {
             "line": {
              "color": "#E5ECF6",
              "width": 0.5
             }
            },
            "type": "barpolar"
           }
          ],
          "carpet": [
           {
            "aaxis": {
             "endlinecolor": "#2a3f5f",
             "gridcolor": "white",
             "linecolor": "white",
             "minorgridcolor": "white",
             "startlinecolor": "#2a3f5f"
            },
            "baxis": {
             "endlinecolor": "#2a3f5f",
             "gridcolor": "white",
             "linecolor": "white",
             "minorgridcolor": "white",
             "startlinecolor": "#2a3f5f"
            },
            "type": "carpet"
           }
          ],
          "choropleth": [
           {
            "colorbar": {
             "outlinewidth": 0,
             "ticks": ""
            },
            "type": "choropleth"
           }
          ],
          "contour": [
           {
            "colorbar": {
             "outlinewidth": 0,
             "ticks": ""
            },
            "colorscale": [
             [
              0,
              "#0d0887"
             ],
             [
              0.1111111111111111,
              "#46039f"
             ],
             [
              0.2222222222222222,
              "#7201a8"
             ],
             [
              0.3333333333333333,
              "#9c179e"
             ],
             [
              0.4444444444444444,
              "#bd3786"
             ],
             [
              0.5555555555555556,
              "#d8576b"
             ],
             [
              0.6666666666666666,
              "#ed7953"
             ],
             [
              0.7777777777777778,
              "#fb9f3a"
             ],
             [
              0.8888888888888888,
              "#fdca26"
             ],
             [
              1,
              "#f0f921"
             ]
            ],
            "type": "contour"
           }
          ],
          "contourcarpet": [
           {
            "colorbar": {
             "outlinewidth": 0,
             "ticks": ""
            },
            "type": "contourcarpet"
           }
          ],
          "heatmap": [
           {
            "colorbar": {
             "outlinewidth": 0,
             "ticks": ""
            },
            "colorscale": [
             [
              0,
              "#0d0887"
             ],
             [
              0.1111111111111111,
              "#46039f"
             ],
             [
              0.2222222222222222,
              "#7201a8"
             ],
             [
              0.3333333333333333,
              "#9c179e"
             ],
             [
              0.4444444444444444,
              "#bd3786"
             ],
             [
              0.5555555555555556,
              "#d8576b"
             ],
             [
              0.6666666666666666,
              "#ed7953"
             ],
             [
              0.7777777777777778,
              "#fb9f3a"
             ],
             [
              0.8888888888888888,
              "#fdca26"
             ],
             [
              1,
              "#f0f921"
             ]
            ],
            "type": "heatmap"
           }
          ],
          "heatmapgl": [
           {
            "colorbar": {
             "outlinewidth": 0,
             "ticks": ""
            },
            "colorscale": [
             [
              0,
              "#0d0887"
             ],
             [
              0.1111111111111111,
              "#46039f"
             ],
             [
              0.2222222222222222,
              "#7201a8"
             ],
             [
              0.3333333333333333,
              "#9c179e"
             ],
             [
              0.4444444444444444,
              "#bd3786"
             ],
             [
              0.5555555555555556,
              "#d8576b"
             ],
             [
              0.6666666666666666,
              "#ed7953"
             ],
             [
              0.7777777777777778,
              "#fb9f3a"
             ],
             [
              0.8888888888888888,
              "#fdca26"
             ],
             [
              1,
              "#f0f921"
             ]
            ],
            "type": "heatmapgl"
           }
          ],
          "histogram": [
           {
            "marker": {
             "colorbar": {
              "outlinewidth": 0,
              "ticks": ""
             }
            },
            "type": "histogram"
           }
          ],
          "histogram2d": [
           {
            "colorbar": {
             "outlinewidth": 0,
             "ticks": ""
            },
            "colorscale": [
             [
              0,
              "#0d0887"
             ],
             [
              0.1111111111111111,
              "#46039f"
             ],
             [
              0.2222222222222222,
              "#7201a8"
             ],
             [
              0.3333333333333333,
              "#9c179e"
             ],
             [
              0.4444444444444444,
              "#bd3786"
             ],
             [
              0.5555555555555556,
              "#d8576b"
             ],
             [
              0.6666666666666666,
              "#ed7953"
             ],
             [
              0.7777777777777778,
              "#fb9f3a"
             ],
             [
              0.8888888888888888,
              "#fdca26"
             ],
             [
              1,
              "#f0f921"
             ]
            ],
            "type": "histogram2d"
           }
          ],
          "histogram2dcontour": [
           {
            "colorbar": {
             "outlinewidth": 0,
             "ticks": ""
            },
            "colorscale": [
             [
              0,
              "#0d0887"
             ],
             [
              0.1111111111111111,
              "#46039f"
             ],
             [
              0.2222222222222222,
              "#7201a8"
             ],
             [
              0.3333333333333333,
              "#9c179e"
             ],
             [
              0.4444444444444444,
              "#bd3786"
             ],
             [
              0.5555555555555556,
              "#d8576b"
             ],
             [
              0.6666666666666666,
              "#ed7953"
             ],
             [
              0.7777777777777778,
              "#fb9f3a"
             ],
             [
              0.8888888888888888,
              "#fdca26"
             ],
             [
              1,
              "#f0f921"
             ]
            ],
            "type": "histogram2dcontour"
           }
          ],
          "mesh3d": [
           {
            "colorbar": {
             "outlinewidth": 0,
             "ticks": ""
            },
            "type": "mesh3d"
           }
          ],
          "parcoords": [
           {
            "line": {
             "colorbar": {
              "outlinewidth": 0,
              "ticks": ""
             }
            },
            "type": "parcoords"
           }
          ],
          "pie": [
           {
            "automargin": true,
            "type": "pie"
           }
          ],
          "scatter": [
           {
            "marker": {
             "colorbar": {
              "outlinewidth": 0,
              "ticks": ""
             }
            },
            "type": "scatter"
           }
          ],
          "scatter3d": [
           {
            "line": {
             "colorbar": {
              "outlinewidth": 0,
              "ticks": ""
             }
            },
            "marker": {
             "colorbar": {
              "outlinewidth": 0,
              "ticks": ""
             }
            },
            "type": "scatter3d"
           }
          ],
          "scattercarpet": [
           {
            "marker": {
             "colorbar": {
              "outlinewidth": 0,
              "ticks": ""
             }
            },
            "type": "scattercarpet"
           }
          ],
          "scattergeo": [
           {
            "marker": {
             "colorbar": {
              "outlinewidth": 0,
              "ticks": ""
             }
            },
            "type": "scattergeo"
           }
          ],
          "scattergl": [
           {
            "marker": {
             "colorbar": {
              "outlinewidth": 0,
              "ticks": ""
             }
            },
            "type": "scattergl"
           }
          ],
          "scattermapbox": [
           {
            "marker": {
             "colorbar": {
              "outlinewidth": 0,
              "ticks": ""
             }
            },
            "type": "scattermapbox"
           }
          ],
          "scatterpolar": [
           {
            "marker": {
             "colorbar": {
              "outlinewidth": 0,
              "ticks": ""
             }
            },
            "type": "scatterpolar"
           }
          ],
          "scatterpolargl": [
           {
            "marker": {
             "colorbar": {
              "outlinewidth": 0,
              "ticks": ""
             }
            },
            "type": "scatterpolargl"
           }
          ],
          "scatterternary": [
           {
            "marker": {
             "colorbar": {
              "outlinewidth": 0,
              "ticks": ""
             }
            },
            "type": "scatterternary"
           }
          ],
          "surface": [
           {
            "colorbar": {
             "outlinewidth": 0,
             "ticks": ""
            },
            "colorscale": [
             [
              0,
              "#0d0887"
             ],
             [
              0.1111111111111111,
              "#46039f"
             ],
             [
              0.2222222222222222,
              "#7201a8"
             ],
             [
              0.3333333333333333,
              "#9c179e"
             ],
             [
              0.4444444444444444,
              "#bd3786"
             ],
             [
              0.5555555555555556,
              "#d8576b"
             ],
             [
              0.6666666666666666,
              "#ed7953"
             ],
             [
              0.7777777777777778,
              "#fb9f3a"
             ],
             [
              0.8888888888888888,
              "#fdca26"
             ],
             [
              1,
              "#f0f921"
             ]
            ],
            "type": "surface"
           }
          ],
          "table": [
           {
            "cells": {
             "fill": {
              "color": "#EBF0F8"
             },
             "line": {
              "color": "white"
             }
            },
            "header": {
             "fill": {
              "color": "#C8D4E3"
             },
             "line": {
              "color": "white"
             }
            },
            "type": "table"
           }
          ]
         },
         "layout": {
          "annotationdefaults": {
           "arrowcolor": "#2a3f5f",
           "arrowhead": 0,
           "arrowwidth": 1
          },
          "coloraxis": {
           "colorbar": {
            "outlinewidth": 0,
            "ticks": ""
           }
          },
          "colorscale": {
           "diverging": [
            [
             0,
             "#8e0152"
            ],
            [
             0.1,
             "#c51b7d"
            ],
            [
             0.2,
             "#de77ae"
            ],
            [
             0.3,
             "#f1b6da"
            ],
            [
             0.4,
             "#fde0ef"
            ],
            [
             0.5,
             "#f7f7f7"
            ],
            [
             0.6,
             "#e6f5d0"
            ],
            [
             0.7,
             "#b8e186"
            ],
            [
             0.8,
             "#7fbc41"
            ],
            [
             0.9,
             "#4d9221"
            ],
            [
             1,
             "#276419"
            ]
           ],
           "sequential": [
            [
             0,
             "#0d0887"
            ],
            [
             0.1111111111111111,
             "#46039f"
            ],
            [
             0.2222222222222222,
             "#7201a8"
            ],
            [
             0.3333333333333333,
             "#9c179e"
            ],
            [
             0.4444444444444444,
             "#bd3786"
            ],
            [
             0.5555555555555556,
             "#d8576b"
            ],
            [
             0.6666666666666666,
             "#ed7953"
            ],
            [
             0.7777777777777778,
             "#fb9f3a"
            ],
            [
             0.8888888888888888,
             "#fdca26"
            ],
            [
             1,
             "#f0f921"
            ]
           ],
           "sequentialminus": [
            [
             0,
             "#0d0887"
            ],
            [
             0.1111111111111111,
             "#46039f"
            ],
            [
             0.2222222222222222,
             "#7201a8"
            ],
            [
             0.3333333333333333,
             "#9c179e"
            ],
            [
             0.4444444444444444,
             "#bd3786"
            ],
            [
             0.5555555555555556,
             "#d8576b"
            ],
            [
             0.6666666666666666,
             "#ed7953"
            ],
            [
             0.7777777777777778,
             "#fb9f3a"
            ],
            [
             0.8888888888888888,
             "#fdca26"
            ],
            [
             1,
             "#f0f921"
            ]
           ]
          },
          "colorway": [
           "#636efa",
           "#EF553B",
           "#00cc96",
           "#ab63fa",
           "#FFA15A",
           "#19d3f3",
           "#FF6692",
           "#B6E880",
           "#FF97FF",
           "#FECB52"
          ],
          "font": {
           "color": "#2a3f5f"
          },
          "geo": {
           "bgcolor": "white",
           "lakecolor": "white",
           "landcolor": "#E5ECF6",
           "showlakes": true,
           "showland": true,
           "subunitcolor": "white"
          },
          "hoverlabel": {
           "align": "left"
          },
          "hovermode": "closest",
          "mapbox": {
           "style": "light"
          },
          "paper_bgcolor": "white",
          "plot_bgcolor": "#E5ECF6",
          "polar": {
           "angularaxis": {
            "gridcolor": "white",
            "linecolor": "white",
            "ticks": ""
           },
           "bgcolor": "#E5ECF6",
           "radialaxis": {
            "gridcolor": "white",
            "linecolor": "white",
            "ticks": ""
           }
          },
          "scene": {
           "xaxis": {
            "backgroundcolor": "#E5ECF6",
            "gridcolor": "white",
            "gridwidth": 2,
            "linecolor": "white",
            "showbackground": true,
            "ticks": "",
            "zerolinecolor": "white"
           },
           "yaxis": {
            "backgroundcolor": "#E5ECF6",
            "gridcolor": "white",
            "gridwidth": 2,
            "linecolor": "white",
            "showbackground": true,
            "ticks": "",
            "zerolinecolor": "white"
           },
           "zaxis": {
            "backgroundcolor": "#E5ECF6",
            "gridcolor": "white",
            "gridwidth": 2,
            "linecolor": "white",
            "showbackground": true,
            "ticks": "",
            "zerolinecolor": "white"
           }
          },
          "shapedefaults": {
           "line": {
            "color": "#2a3f5f"
           }
          },
          "ternary": {
           "aaxis": {
            "gridcolor": "white",
            "linecolor": "white",
            "ticks": ""
           },
           "baxis": {
            "gridcolor": "white",
            "linecolor": "white",
            "ticks": ""
           },
           "bgcolor": "#E5ECF6",
           "caxis": {
            "gridcolor": "white",
            "linecolor": "white",
            "ticks": ""
           }
          },
          "title": {
           "x": 0.05
          },
          "xaxis": {
           "automargin": true,
           "gridcolor": "white",
           "linecolor": "white",
           "ticks": "",
           "title": {
            "standoff": 15
           },
           "zerolinecolor": "white",
           "zerolinewidth": 2
          },
          "yaxis": {
           "automargin": true,
           "gridcolor": "white",
           "linecolor": "white",
           "ticks": "",
           "title": {
            "standoff": 15
           },
           "zerolinecolor": "white",
           "zerolinewidth": 2
          }
         }
        },
        "width": 950,
        "xaxis": {
         "anchor": "y",
         "domain": [
          0,
          1
         ],
         "title": {
          "text": "Count"
         }
        },
        "yaxis": {
         "anchor": "x",
         "domain": [
          0,
          1
         ],
         "title": {
          "text": "Test"
         }
        }
       }
      },
      "text/html": [
       "<div>\n",
       "        \n",
       "        \n",
       "            <div id=\"dfed9689-7a50-440c-90db-544bdb383942\" class=\"plotly-graph-div\" style=\"height:1000px; width:950px;\"></div>\n",
       "            <script type=\"text/javascript\">\n",
       "                require([\"plotly\"], function(Plotly) {\n",
       "                    window.PLOTLYENV=window.PLOTLYENV || {};\n",
       "                    \n",
       "                if (document.getElementById(\"dfed9689-7a50-440c-90db-544bdb383942\")) {\n",
       "                    Plotly.newPlot(\n",
       "                        'dfed9689-7a50-440c-90db-544bdb383942',\n",
       "                        [{\"alignmentgroup\": \"True\", \"hovertemplate\": \"Flag=1<br>Count=%{x}<br>Test=%{y}<extra></extra>\", \"legendgroup\": \"1\", \"marker\": {\"color\": \"green\"}, \"name\": \"1\", \"offsetgroup\": \"1\", \"orientation\": \"h\", \"showlegend\": true, \"textposition\": \"auto\", \"type\": \"bar\", \"x\": [135751, 19026, 133059, 21044, 134569, 135845, 135269, 135841, 133630, 131831, 133536, 134360, 133229, 135265, 135841, 129314, 122272, 119986, 135158, 135269, 132881, 135269, 135845, 43001, 132694, 43000, 43000, 42654, 134560, 135845, 135845, 134702, 132548, 134569, 134569, 135845, 135845, 135844, 135232, 135809], \"xaxis\": \"x\", \"y\": [\"bottom_hit_flag\", \"c_star_at_qartod_attenuated_signal_test\", \"c_star_at_qartod_flag\", \"c_star_at_qartod_spike_test\", \"conductivity_qartod_flag\", \"conductivity_qartod_gross_range_test\", \"depth_qartod_flag\", \"depth_qartod_gross_range_test\", \"dissolved_oxygen_ml_l_qartod_attenuated_signal_test\", \"dissolved_oxygen_ml_l_qartod_flag\", \"dissolved_oxygen_ml_l_qartod_gross_range_test\", \"dissolved_oxygen_ml_l_qartod_rate_of_change_test\", \"dissolved_oxygen_ml_l_qartod_spike_test\", \"flc_qartod_flag\", \"flc_qartod_gross_range_test\", \"par_qartod_attenuated_signal_test\", \"par_qartod_flag\", \"par_qartod_gross_range_test\", \"par_shadow_flag\", \"position_qartod_flag\", \"position_qartod_location_test\", \"pressure_qartod_flag\", \"pressure_qartod_gross_range_test\", \"rinko_do_ml_l_qartod_attenuated_signal_test\", \"rinko_do_ml_l_qartod_flag\", \"rinko_do_ml_l_qartod_gross_range_test\", \"rinko_do_ml_l_qartod_rate_of_change_test\", \"rinko_do_ml_l_qartod_spike_test\", \"salinity_qartod_flag\", \"salinity_qartod_gross_range_test\", \"salinity_qartod_rate_of_change_test\", \"salinity_qartod_spike_test\", \"sigma0_qartod_density_inversion_test\", \"sigma0_qartod_flag\", \"temperature_qartod_flag\", \"temperature_qartod_gross_range_test\", \"temperature_qartod_rate_of_change_test\", \"turbidity_qartod_attenuated_signal_test\", \"turbidity_qartod_flag\", \"turbidity_qartod_gross_range_test\"], \"yaxis\": \"y\"}, {\"alignmentgroup\": \"True\", \"hovertemplate\": \"Flag=2<br>Count=%{x}<br>Test=%{y}<extra></extra>\", \"legendgroup\": \"2\", \"marker\": {\"color\": \"yellow\"}, \"name\": \"2\", \"offsetgroup\": \"2\", \"orientation\": \"h\", \"showlegend\": true, \"textposition\": \"auto\", \"type\": \"bar\", \"x\": [170, 133288, 1102, 133288, 346, 1119, 1], \"xaxis\": \"x\", \"y\": [\"c_star_at_qartod_spike_test\", \"dissolved_oxygen_ml_l_do_cap_flag\", \"dissolved_oxygen_ml_l_qartod_spike_test\", \"rinko_do_ml_l_do_cap_flag\", \"rinko_do_ml_l_qartod_spike_test\", \"salinity_qartod_spike_test\", \"sigma0_qartod_density_inversion_test\"], \"yaxis\": \"y\"}, {\"alignmentgroup\": \"True\", \"hovertemplate\": \"Flag=3<br>Count=%{x}<br>Test=%{y}<extra></extra>\", \"legendgroup\": \"3\", \"marker\": {\"color\": \"orange\"}, \"name\": \"3\", \"offsetgroup\": \"3\", \"orientation\": \"h\", \"showlegend\": true, \"textposition\": \"auto\", \"type\": \"bar\", \"x\": [2199, 2679, 2, 1178, 478, 749, 499, 13, 20, 17, 482, 4, 5260, 4119, 703, 478, 478, 478, 478, 1, 1184, 16, 810, 1178, 1178, 479, 1], \"xaxis\": \"x\", \"y\": [\"c_star_at_qartod_attenuated_signal_test\", \"c_star_at_qartod_flag\", \"c_star_at_qartod_spike_test\", \"conductivity_qartod_flag\", \"depth_qartod_flag\", \"dissolved_oxygen_ml_l_qartod_attenuated_signal_test\", \"dissolved_oxygen_ml_l_qartod_flag\", \"dissolved_oxygen_ml_l_qartod_gross_range_test\", \"dissolved_oxygen_ml_l_qartod_rate_of_change_test\", \"dissolved_oxygen_ml_l_qartod_spike_test\", \"flc_qartod_flag\", \"flc_qartod_gross_range_test\", \"par_qartod_flag\", \"par_qartod_gross_range_test\", \"par_shadow_flag\", \"position_qartod_flag\", \"position_qartod_location_test\", \"pressure_qartod_flag\", \"rinko_do_ml_l_qartod_flag\", \"rinko_do_ml_l_qartod_rate_of_change_test\", \"salinity_qartod_flag\", \"salinity_qartod_spike_test\", \"sigma0_qartod_density_inversion_test\", \"sigma0_qartod_flag\", \"temperature_qartod_flag\", \"turbidity_qartod_flag\", \"turbidity_qartod_gross_range_test\"], \"yaxis\": \"y\"}, {\"alignmentgroup\": \"True\", \"hovertemplate\": \"Flag=4<br>Count=%{x}<br>Test=%{y}<extra></extra>\", \"legendgroup\": \"4\", \"marker\": {\"color\": \"red\"}, \"name\": \"4\", \"offsetgroup\": \"4\", \"orientation\": \"h\", \"showlegend\": true, \"textposition\": \"auto\", \"type\": \"bar\", \"x\": [110, 123, 9, 114, 114, 4, 2573, 1, 3531, 831, 29, 114, 1505, 8329, 6714, 114, 114, 2573, 2689, 1, 1, 117, 8, 114, 114, 1, 150, 35], \"xaxis\": \"x\", \"y\": [\"bottom_hit_flag\", \"c_star_at_qartod_flag\", \"c_star_at_qartod_spike_test\", \"conductivity_qartod_flag\", \"depth_qartod_flag\", \"depth_qartod_gross_range_test\", \"dissolved_oxygen_ml_l_do_cap_flag\", \"dissolved_oxygen_ml_l_qartod_attenuated_signal_test\", \"dissolved_oxygen_ml_l_qartod_flag\", \"dissolved_oxygen_ml_l_qartod_gross_range_test\", \"dissolved_oxygen_ml_l_qartod_spike_test\", \"flc_qartod_flag\", \"par_qartod_attenuated_signal_test\", \"par_qartod_flag\", \"par_qartod_gross_range_test\", \"position_qartod_flag\", \"pressure_qartod_flag\", \"rinko_do_ml_l_do_cap_flag\", \"rinko_do_ml_l_qartod_flag\", \"rinko_do_ml_l_qartod_gross_range_test\", \"rinko_do_ml_l_qartod_spike_test\", \"salinity_qartod_flag\", \"salinity_qartod_spike_test\", \"sigma0_qartod_flag\", \"temperature_qartod_flag\", \"turbidity_qartod_attenuated_signal_test\", \"turbidity_qartod_flag\", \"turbidity_qartod_gross_range_test\"], \"yaxis\": \"y\"}, {\"alignmentgroup\": \"True\", \"hovertemplate\": \"Flag=9<br>Count=%{x}<br>Test=%{y}<extra></extra>\", \"legendgroup\": \"9\", \"marker\": {\"color\": \"purple\"}, \"name\": \"9\", \"offsetgroup\": \"9\", \"orientation\": \"h\", \"showlegend\": true, \"textposition\": \"auto\", \"type\": \"bar\", \"x\": [114620, 114620, 1465, 1465, 1465, 1468, 5026, 5026, 2486, 92844, 92844, 92844, 92844, 2486], \"xaxis\": \"x\", \"y\": [\"c_star_at_qartod_attenuated_signal_test\", \"c_star_at_qartod_spike_test\", \"dissolved_oxygen_ml_l_qartod_attenuated_signal_test\", \"dissolved_oxygen_ml_l_qartod_gross_range_test\", \"dissolved_oxygen_ml_l_qartod_rate_of_change_test\", \"dissolved_oxygen_ml_l_qartod_spike_test\", \"par_qartod_attenuated_signal_test\", \"par_qartod_gross_range_test\", \"position_qartod_location_test\", \"rinko_do_ml_l_qartod_attenuated_signal_test\", \"rinko_do_ml_l_qartod_gross_range_test\", \"rinko_do_ml_l_qartod_rate_of_change_test\", \"rinko_do_ml_l_qartod_spike_test\", \"sigma0_qartod_density_inversion_test\"], \"yaxis\": \"y\"}],\n",
       "                        {\"autosize\": false, \"barmode\": \"relative\", \"height\": 1000, \"legend\": {\"title\": {\"text\": \"Flag\"}, \"tracegroupgap\": 0}, \"margin\": {\"t\": 60}, \"template\": {\"data\": {\"bar\": [{\"error_x\": {\"color\": \"#2a3f5f\"}, \"error_y\": {\"color\": \"#2a3f5f\"}, \"marker\": {\"line\": {\"color\": \"#E5ECF6\", \"width\": 0.5}}, \"type\": \"bar\"}], \"barpolar\": [{\"marker\": {\"line\": {\"color\": \"#E5ECF6\", \"width\": 0.5}}, \"type\": \"barpolar\"}], \"carpet\": [{\"aaxis\": {\"endlinecolor\": \"#2a3f5f\", \"gridcolor\": \"white\", \"linecolor\": \"white\", \"minorgridcolor\": \"white\", \"startlinecolor\": \"#2a3f5f\"}, \"baxis\": {\"endlinecolor\": \"#2a3f5f\", \"gridcolor\": \"white\", \"linecolor\": \"white\", \"minorgridcolor\": \"white\", \"startlinecolor\": \"#2a3f5f\"}, \"type\": \"carpet\"}], \"choropleth\": [{\"colorbar\": {\"outlinewidth\": 0, \"ticks\": \"\"}, \"type\": \"choropleth\"}], \"contour\": [{\"colorbar\": {\"outlinewidth\": 0, \"ticks\": \"\"}, \"colorscale\": [[0.0, \"#0d0887\"], [0.1111111111111111, \"#46039f\"], [0.2222222222222222, \"#7201a8\"], [0.3333333333333333, \"#9c179e\"], [0.4444444444444444, \"#bd3786\"], [0.5555555555555556, \"#d8576b\"], [0.6666666666666666, \"#ed7953\"], [0.7777777777777778, \"#fb9f3a\"], [0.8888888888888888, \"#fdca26\"], [1.0, \"#f0f921\"]], \"type\": \"contour\"}], \"contourcarpet\": [{\"colorbar\": {\"outlinewidth\": 0, \"ticks\": \"\"}, \"type\": \"contourcarpet\"}], \"heatmap\": [{\"colorbar\": {\"outlinewidth\": 0, \"ticks\": \"\"}, \"colorscale\": [[0.0, \"#0d0887\"], [0.1111111111111111, \"#46039f\"], [0.2222222222222222, \"#7201a8\"], [0.3333333333333333, \"#9c179e\"], [0.4444444444444444, \"#bd3786\"], [0.5555555555555556, \"#d8576b\"], [0.6666666666666666, \"#ed7953\"], [0.7777777777777778, \"#fb9f3a\"], [0.8888888888888888, \"#fdca26\"], [1.0, \"#f0f921\"]], \"type\": \"heatmap\"}], \"heatmapgl\": [{\"colorbar\": {\"outlinewidth\": 0, \"ticks\": \"\"}, \"colorscale\": [[0.0, \"#0d0887\"], [0.1111111111111111, \"#46039f\"], [0.2222222222222222, \"#7201a8\"], [0.3333333333333333, \"#9c179e\"], [0.4444444444444444, \"#bd3786\"], [0.5555555555555556, \"#d8576b\"], [0.6666666666666666, \"#ed7953\"], [0.7777777777777778, \"#fb9f3a\"], [0.8888888888888888, \"#fdca26\"], [1.0, \"#f0f921\"]], \"type\": \"heatmapgl\"}], \"histogram\": [{\"marker\": {\"colorbar\": {\"outlinewidth\": 0, \"ticks\": \"\"}}, \"type\": \"histogram\"}], \"histogram2d\": [{\"colorbar\": {\"outlinewidth\": 0, \"ticks\": \"\"}, \"colorscale\": [[0.0, \"#0d0887\"], [0.1111111111111111, \"#46039f\"], [0.2222222222222222, \"#7201a8\"], [0.3333333333333333, \"#9c179e\"], [0.4444444444444444, \"#bd3786\"], [0.5555555555555556, \"#d8576b\"], [0.6666666666666666, \"#ed7953\"], [0.7777777777777778, \"#fb9f3a\"], [0.8888888888888888, \"#fdca26\"], [1.0, \"#f0f921\"]], \"type\": \"histogram2d\"}], \"histogram2dcontour\": [{\"colorbar\": {\"outlinewidth\": 0, \"ticks\": \"\"}, \"colorscale\": [[0.0, \"#0d0887\"], [0.1111111111111111, \"#46039f\"], [0.2222222222222222, \"#7201a8\"], [0.3333333333333333, \"#9c179e\"], [0.4444444444444444, \"#bd3786\"], [0.5555555555555556, \"#d8576b\"], [0.6666666666666666, \"#ed7953\"], [0.7777777777777778, \"#fb9f3a\"], [0.8888888888888888, \"#fdca26\"], [1.0, \"#f0f921\"]], \"type\": \"histogram2dcontour\"}], \"mesh3d\": [{\"colorbar\": {\"outlinewidth\": 0, \"ticks\": \"\"}, \"type\": \"mesh3d\"}], \"parcoords\": [{\"line\": {\"colorbar\": {\"outlinewidth\": 0, \"ticks\": \"\"}}, \"type\": \"parcoords\"}], \"pie\": [{\"automargin\": true, \"type\": \"pie\"}], \"scatter\": [{\"marker\": {\"colorbar\": {\"outlinewidth\": 0, \"ticks\": \"\"}}, \"type\": \"scatter\"}], \"scatter3d\": [{\"line\": {\"colorbar\": {\"outlinewidth\": 0, \"ticks\": \"\"}}, \"marker\": {\"colorbar\": {\"outlinewidth\": 0, \"ticks\": \"\"}}, \"type\": \"scatter3d\"}], \"scattercarpet\": [{\"marker\": {\"colorbar\": {\"outlinewidth\": 0, \"ticks\": \"\"}}, \"type\": \"scattercarpet\"}], \"scattergeo\": [{\"marker\": {\"colorbar\": {\"outlinewidth\": 0, \"ticks\": \"\"}}, \"type\": \"scattergeo\"}], \"scattergl\": [{\"marker\": {\"colorbar\": {\"outlinewidth\": 0, \"ticks\": \"\"}}, \"type\": \"scattergl\"}], \"scattermapbox\": [{\"marker\": {\"colorbar\": {\"outlinewidth\": 0, \"ticks\": \"\"}}, \"type\": \"scattermapbox\"}], \"scatterpolar\": [{\"marker\": {\"colorbar\": {\"outlinewidth\": 0, \"ticks\": \"\"}}, \"type\": \"scatterpolar\"}], \"scatterpolargl\": [{\"marker\": {\"colorbar\": {\"outlinewidth\": 0, \"ticks\": \"\"}}, \"type\": \"scatterpolargl\"}], \"scatterternary\": [{\"marker\": {\"colorbar\": {\"outlinewidth\": 0, \"ticks\": \"\"}}, \"type\": \"scatterternary\"}], \"surface\": [{\"colorbar\": {\"outlinewidth\": 0, \"ticks\": \"\"}, \"colorscale\": [[0.0, \"#0d0887\"], [0.1111111111111111, \"#46039f\"], [0.2222222222222222, \"#7201a8\"], [0.3333333333333333, \"#9c179e\"], [0.4444444444444444, \"#bd3786\"], [0.5555555555555556, \"#d8576b\"], [0.6666666666666666, \"#ed7953\"], [0.7777777777777778, \"#fb9f3a\"], [0.8888888888888888, \"#fdca26\"], [1.0, \"#f0f921\"]], \"type\": \"surface\"}], \"table\": [{\"cells\": {\"fill\": {\"color\": \"#EBF0F8\"}, \"line\": {\"color\": \"white\"}}, \"header\": {\"fill\": {\"color\": \"#C8D4E3\"}, \"line\": {\"color\": \"white\"}}, \"type\": \"table\"}]}, \"layout\": {\"annotationdefaults\": {\"arrowcolor\": \"#2a3f5f\", \"arrowhead\": 0, \"arrowwidth\": 1}, \"coloraxis\": {\"colorbar\": {\"outlinewidth\": 0, \"ticks\": \"\"}}, \"colorscale\": {\"diverging\": [[0, \"#8e0152\"], [0.1, \"#c51b7d\"], [0.2, \"#de77ae\"], [0.3, \"#f1b6da\"], [0.4, \"#fde0ef\"], [0.5, \"#f7f7f7\"], [0.6, \"#e6f5d0\"], [0.7, \"#b8e186\"], [0.8, \"#7fbc41\"], [0.9, \"#4d9221\"], [1, \"#276419\"]], \"sequential\": [[0.0, \"#0d0887\"], [0.1111111111111111, \"#46039f\"], [0.2222222222222222, \"#7201a8\"], [0.3333333333333333, \"#9c179e\"], [0.4444444444444444, \"#bd3786\"], [0.5555555555555556, \"#d8576b\"], [0.6666666666666666, \"#ed7953\"], [0.7777777777777778, \"#fb9f3a\"], [0.8888888888888888, \"#fdca26\"], [1.0, \"#f0f921\"]], \"sequentialminus\": [[0.0, \"#0d0887\"], [0.1111111111111111, \"#46039f\"], [0.2222222222222222, \"#7201a8\"], [0.3333333333333333, \"#9c179e\"], [0.4444444444444444, \"#bd3786\"], [0.5555555555555556, \"#d8576b\"], [0.6666666666666666, \"#ed7953\"], [0.7777777777777778, \"#fb9f3a\"], [0.8888888888888888, \"#fdca26\"], [1.0, \"#f0f921\"]]}, \"colorway\": [\"#636efa\", \"#EF553B\", \"#00cc96\", \"#ab63fa\", \"#FFA15A\", \"#19d3f3\", \"#FF6692\", \"#B6E880\", \"#FF97FF\", \"#FECB52\"], \"font\": {\"color\": \"#2a3f5f\"}, \"geo\": {\"bgcolor\": \"white\", \"lakecolor\": \"white\", \"landcolor\": \"#E5ECF6\", \"showlakes\": true, \"showland\": true, \"subunitcolor\": \"white\"}, \"hoverlabel\": {\"align\": \"left\"}, \"hovermode\": \"closest\", \"mapbox\": {\"style\": \"light\"}, \"paper_bgcolor\": \"white\", \"plot_bgcolor\": \"#E5ECF6\", \"polar\": {\"angularaxis\": {\"gridcolor\": \"white\", \"linecolor\": \"white\", \"ticks\": \"\"}, \"bgcolor\": \"#E5ECF6\", \"radialaxis\": {\"gridcolor\": \"white\", \"linecolor\": \"white\", \"ticks\": \"\"}}, \"scene\": {\"xaxis\": {\"backgroundcolor\": \"#E5ECF6\", \"gridcolor\": \"white\", \"gridwidth\": 2, \"linecolor\": \"white\", \"showbackground\": true, \"ticks\": \"\", \"zerolinecolor\": \"white\"}, \"yaxis\": {\"backgroundcolor\": \"#E5ECF6\", \"gridcolor\": \"white\", \"gridwidth\": 2, \"linecolor\": \"white\", \"showbackground\": true, \"ticks\": \"\", \"zerolinecolor\": \"white\"}, \"zaxis\": {\"backgroundcolor\": \"#E5ECF6\", \"gridcolor\": \"white\", \"gridwidth\": 2, \"linecolor\": \"white\", \"showbackground\": true, \"ticks\": \"\", \"zerolinecolor\": \"white\"}}, \"shapedefaults\": {\"line\": {\"color\": \"#2a3f5f\"}}, \"ternary\": {\"aaxis\": {\"gridcolor\": \"white\", \"linecolor\": \"white\", \"ticks\": \"\"}, \"baxis\": {\"gridcolor\": \"white\", \"linecolor\": \"white\", \"ticks\": \"\"}, \"bgcolor\": \"#E5ECF6\", \"caxis\": {\"gridcolor\": \"white\", \"linecolor\": \"white\", \"ticks\": \"\"}}, \"title\": {\"x\": 0.05}, \"xaxis\": {\"automargin\": true, \"gridcolor\": \"white\", \"linecolor\": \"white\", \"ticks\": \"\", \"title\": {\"standoff\": 15}, \"zerolinecolor\": \"white\", \"zerolinewidth\": 2}, \"yaxis\": {\"automargin\": true, \"gridcolor\": \"white\", \"linecolor\": \"white\", \"ticks\": \"\", \"title\": {\"standoff\": 15}, \"zerolinecolor\": \"white\", \"zerolinewidth\": 2}}}, \"width\": 950, \"xaxis\": {\"anchor\": \"y\", \"domain\": [0.0, 1.0], \"title\": {\"text\": \"Count\"}}, \"yaxis\": {\"anchor\": \"x\", \"domain\": [0.0, 1.0], \"title\": {\"text\": \"Test\"}}},\n",
       "                        {\"responsive\": true}\n",
       "                    ).then(function(){\n",
       "                            \n",
       "var gd = document.getElementById('dfed9689-7a50-440c-90db-544bdb383942');\n",
       "var x = new MutationObserver(function (mutations, observer) {{\n",
       "        var display = window.getComputedStyle(gd).display;\n",
       "        if (!display || display === 'none') {{\n",
       "            console.log([gd, 'removed!']);\n",
       "            Plotly.purge(gd);\n",
       "            observer.disconnect();\n",
       "        }}\n",
       "}});\n",
       "\n",
       "// Listen for the removal of the full notebook cells\n",
       "var notebookContainer = gd.closest('#notebook-container');\n",
       "if (notebookContainer) {{\n",
       "    x.observe(notebookContainer, {childList: true});\n",
       "}}\n",
       "\n",
       "// Listen for the clearing of the current output cell\n",
       "var outputEl = gd.closest('.output');\n",
       "if (outputEl) {{\n",
       "    x.observe(outputEl, {childList: true});\n",
       "}}\n",
       "\n",
       "                        })\n",
       "                };\n",
       "                });\n",
       "            </script>\n",
       "        </div>"
      ]
     },
     "metadata": {},
     "output_type": "display_data"
    }
   ],
   "source": [
    "# Get the flag columns and hakai_id, but ignore the direction flag column\n",
    "test_list = sorted(df.filter(regex='_flag$|_test$').columns.tolist())\n",
    "test_list.append('hakai_id')\n",
    "test_list.remove('direction_flag')\n",
    "\n",
    "# Get Flag columns, stack them all and add a count column\n",
    "df_test = df[test_list].set_index('hakai_id').stack().reset_index().rename({'level_1':'Test',0:'Flag'},axis=1)\n",
    "df_test['Count'] = 1\n",
    "\n",
    "#Regroup data by test and flag and count how many values there is per flag\n",
    "df_result = df_test.groupby(['Test','Flag'])['Count'].count().dropna().reset_index()\n",
    "\n",
    "# Make sure that all the flags are in int and convert to str format for plotly, sort by flag and test\n",
    "df_result['Flag'] =df_result['Flag'].astype(int).astype(str)\n",
    "df_result = df_result.sort_values(['Flag','Test'])\n",
    "\n",
    "# Create bar plot\n",
    "fig = px.bar(df_result,x='Count',y='Test',orientation='h',color='Flag',\n",
    "       color_discrete_sequence=['green','yellow','orange','red','purple'])\n",
    "fig.update_layout(\n",
    "    autosize=False,\n",
    "    width=950,\n",
    "    height=1000)"
   ]
  },
  {
   "cell_type": "markdown",
   "metadata": {},
   "source": [
    "#### Review one profile at the time"
   ]
  },
  {
   "cell_type": "code",
   "execution_count": 100,
   "metadata": {},
   "outputs": [
    {
     "name": "stdout",
     "output_type": "stream",
     "text": [
      "Select Flagged Variable(s) to consider in the following list:\n"
     ]
    },
    {
     "data": {
      "application/vnd.jupyter.widget-view+json": {
       "model_id": "7baf7f5f8e5040ecbc1e5df57530a3e8",
       "version_major": 2,
       "version_minor": 0
      },
      "text/plain": [
       "interactive(children=(Dropdown(description='Test to review', index=61, options=('backscatter_beta_flag', 'bott…"
      ]
     },
     "metadata": {},
     "output_type": "display_data"
    }
   ],
   "source": [
    "variable_list = set(qc_config.keys())-{'position'}\n",
    "test_list = sorted(df.filter(regex='_flag$|_test$').columns.tolist())\n",
    "test_list.append(\"None\")\n",
    "qartod_color = {1:'green',2:'yellow',3:'orange',4:'red',9:'purple','1':'green','2':'yellow','3':'orange','4':'red','9':'purple'}\n",
    "dir = {'d':'downcast','u':'upcast'}\n",
    "    \n",
    "print('Select Flagged Variable(s) to consider in the following list:')\n",
    "@interact\n",
    "def which_profiles_to_look_at(\n",
    "    FlagType=widgets.Dropdown(options=test_list,value='None',\n",
    "                              description='Test to review',disabled=False),\n",
    "    ConsideredFlag = widgets.SelectMultiple(options=[1,2,3,4,9],value=[1,2,3,4,9],\n",
    "                                            description='Flag To Consider',disabled=False)):\n",
    "      \n",
    "    if FlagType=='None':\n",
    "        hakai_id_list = df['hakai_id'].unique().tolist()\n",
    "    else:\n",
    "        hakai_id_list = df[df[FlagType].isin(ConsideredFlag)]['hakai_id'].unique()\n",
    "    \n",
    "    print(str(len(hakai_id_list))+' profiles are available')\n",
    "    \n",
    "    @interact\n",
    "    def plot_profile(hakai_id=hakai_id_list,\n",
    "                     Ocean_Variables=widgets.SelectMultiple(options=variable_list-{'depth','pressure'},\n",
    "                                                            value=['temperature','salinity','dissolved_oxygen_ml_l'],\n",
    "                                                            description='Ocean Variable',\n",
    "                                                            disabled=False), \n",
    "                 \n",
    "                     y_axis=widgets.Dropdown(options=variable_list,value='depth',description='Y Axis Variable',\n",
    "                                         disabled=False),\n",
    "                     downcast=widgets.Checkbox(value=True,description='Downcast',\n",
    "                                             disabled=False),\n",
    "                     upcast=widgets.Checkbox(value=True,description='Upcast',\n",
    "                                             disabled=False),\n",
    "                     par_log_scale=widgets.Checkbox(value=True,description='PAR Log Scale',\n",
    "                                             disabled=False)):\n",
    "\n",
    "        cast_direction=[]\n",
    "        if downcast:\n",
    "            cast_direction.append('d')\n",
    "        if upcast:\n",
    "            cast_direction.append('u')\n",
    "\n",
    "        df_temp = df[df['hakai_id']==hakai_id].sort_values(['direction_flag','depth'])\n",
    "        vars = Ocean_Variables\n",
    "\n",
    "        #Create Subplots\n",
    "        fig = make_subplots(rows=1,cols=len(vars), shared_yaxes=True,\n",
    "                            horizontal_spacing=0.01)\n",
    "        kk=1\n",
    "        for var in vars:\n",
    "            for direction_flag in cast_direction:\n",
    "                for flag, color in qartod_color.items():\n",
    "                    df_flag = df_temp[(df_temp[var+'_qartod_flag']==flag) & (df_temp['direction_flag']==direction_flag)]\n",
    "\n",
    "                    if len(df_flag):\n",
    "                        if direction_flag is 'u':\n",
    "                            marker_dict = dict(color=color,symbol='x')\n",
    "                        else:\n",
    "                            marker_dict = dict(color=color)\n",
    "\n",
    "                        fig.add_trace(\n",
    "                        go.Scatter(x=df_flag[var],\n",
    "                                y=df_flag[y_axis],\n",
    "                                mode='markers',\n",
    "                                marker=marker_dict,# df_temp[var+'_qartod_flag'],\n",
    "                                text=df_flag[var+'_flag_description'],\n",
    "                                name=var+' '+dir[direction_flag]+' FLAG:'+str(flag)),\n",
    "                            row=1,col=kk)\n",
    "\n",
    "            if var in ['par'] and par_log_scale: # Make PAR x axis log\n",
    "                fig.update_xaxes(type=\"log\",row=1,col=kk)    \n",
    "            fig.update_xaxes(title=var, row=1, col=kk)\n",
    "            kk=kk+1\n",
    "\n",
    "        # Add stuff around each figures\n",
    "        fig.update_yaxes(title_text=y_axis,row=1,col=1)\n",
    "        fig.update_yaxes(autorange=\"reversed\",linecolor='black',mirror=True,ticks='outside',showline=True)\n",
    "        fig.update_xaxes(mirror=True,ticks='outside',showline=True,tickangle=45,linecolor='black')\n",
    "        fig.update_layout(height=800, width=2000,showlegend=True, \n",
    "                          title_text='Hakai ID: '+hakai_id+' Site: '+df_temp['station'].unique()[0])\n",
    "        return fig.show()\n",
    "    \n",
    "    return \n"
   ]
  },
  {
   "cell_type": "markdown",
   "metadata": {},
   "source": [
    "#### Plot data as scatter time series"
   ]
  },
  {
   "cell_type": "code",
   "execution_count": 142,
   "metadata": {},
   "outputs": [
    {
     "data": {
      "application/vnd.jupyter.widget-view+json": {
       "model_id": "4b14fca2012a4ab1ac174ebaf3d3bd6f",
       "version_major": 2,
       "version_minor": 0
      },
      "text/plain": [
       "interactive(children=(Dropdown(description='Ocean Variable', index=8, options=('salinity', 'sigma0', 'temperat…"
      ]
     },
     "metadata": {},
     "output_type": "display_data"
    }
   ],
   "source": [
    "\n",
    "maxPressure = max(df['pressure'])\n",
    "middlePressure = round(maxPressure/2)\n",
    "deltaPresure = round(.15*maxPressure)\n",
    "\n",
    "@ interact\n",
    "def plot_scatter(var=widgets.Dropdown(options=variable_list-{'depth','pressure'},\n",
    "                                            value='dissolved_oxygen_ml_l',\n",
    "                                            description='Ocean Variable',\n",
    "                                            disabled=False),\n",
    "                pressure=widgets.IntRangeSlider(value=[middlePressure-deltaPresure,middlePressure+deltaPresure],\n",
    "                                                min=0,max=max(df['pressure']),step=1,description='Pressure Range:',\n",
    "                                                disabled=False,continuous_update=False,orientation='horizontal',\n",
    "                                                readout=True,readout_format='d')):\n",
    "\n",
    "\n",
    "    # Plot scatter\n",
    "    df_plot = df[(df['direction_flag']=='d')& (df[var+'_qartod_flag']==1) & (df[var].notna())]\n",
    "    fig = px.scatter(df_plot,x='measurement_dt',y='depth',color=var)\n",
    "    fig.update_yaxes(autorange=\"reversed\")\n",
    "\n",
    "    df_plot_depth = df_plot[(df_plot['pressure']>pressure[0]) & (df_plot['pressure']<pressure[1])]\n",
    "    fig2 = px.scatter(df_plot_depth,x='measurement_dt',y=var,color='pressure')\n",
    "\n",
    "    fig.show()\n",
    "    fig2.show()\n",
    "    return"
   ]
  }
 ],
 "metadata": {
  "kernelspec": {
   "display_name": "Python 3",
   "language": "python",
   "name": "python3"
  },
  "language_info": {
   "codemirror_mode": {
    "name": "ipython",
    "version": 3
   },
   "file_extension": ".py",
   "mimetype": "text/x-python",
   "name": "python",
   "nbconvert_exporter": "python",
   "pygments_lexer": "ipython3",
   "version": "3.7.3"
  }
 },
 "nbformat": 4,
 "nbformat_minor": 4
}
