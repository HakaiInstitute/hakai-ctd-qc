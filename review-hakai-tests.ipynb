{
 "cells": [
  {
   "cell_type": "markdown",
   "metadata": {},
   "source": [
    "# Hakai Profile QA/QC Development Tool\n",
    "This jupyter notebook is a flexible tool used for testing and improving Hakai's QA/QCing workflow of the its CTD profile data. \n",
    "\n",
    "The tool can load Hakai's CTD dataset and apply default tests already applied. Those tests can be modified by the user to tests different thresholds. Other tests can be added too!"
   ]
  },
  {
   "cell_type": "markdown",
   "metadata": {},
   "source": [
    "## Let's load all the python packages we need\n",
    "This may take some times the very first time. Some of the packages are available through Pypi while others aren't. We also load the hakai_qc main branch here.\n",
    "\n",
    "We also install the ioos_qc tool from the Hakai github fork and add-density-inversion-test branch. This will likely change in th future as some new tests gets integrated int he standard ioos_qc package."
   ]
  },
  {
   "cell_type": "code",
   "execution_count": null,
   "metadata": {},
   "outputs": [],
   "source": [
    "import pandas as pd\n",
    "import seaborn as sns\n",
    "import matplotlib.pyplot as plt\n",
    "import json\n",
    "\n",
    "# Get External packages\n",
    "try:\n",
    "    from hakai_api import Client\n",
    "    from ioos_qc.config import QcConfig\n",
    "    import hakai_qc\n",
    "except:\n",
    "    # Install Hakai API Python Client\n",
    "    !pip install git+https://github.com/HakaiInstitute/hakai-api-client-python.git\n",
    "    from hakai_api import Client\n",
    "\n",
    "    # Install ioos_qc\n",
    "    !pip install git+https://github.com/HakaiInstitute/ioos_qc@add-density-inversion-test\n",
    "    from ioos_qc.config import QcConfig\n",
    "    \n",
    "    # Load local modules\n",
    "    !pip install git+https://github.com/HakaiInstitute/hakai-profile-qaqc.git\n",
    "    import hakai_qc\n"
   ]
  },
  {
   "cell_type": "markdown",
   "metadata": {},
   "source": [
    "## Import data from the Hakai CTD Profile Database and Hakai List of Stations\n",
    "The Hakai Station Master List is based on a CSV output of the [Hakai Oceanography Master Stations Map and Data](https://hakai.maps.arcgis.com/apps/webappviewer/index.html?id=38e1b1da8d16466bbe5d7c7a713d2678). Missing sites should be added to the master list in order to applied all the different tests."
   ]
  },
  {
   "cell_type": "code",
   "execution_count": null,
   "metadata": {},
   "outputs": [],
   "source": [
    "# Load Hakai Station List\n",
    "hakai_stations = hakai_qc.get.hakai_stations()"
   ]
  },
  {
   "cell_type": "markdown",
   "metadata": {},
   "source": [
    "Now, let's get some data from the Hakai CTD Processed Data Database "
   ]
  },
  {
   "cell_type": "code",
   "execution_count": null,
   "metadata": {},
   "outputs": [],
   "source": [
    "# Get Hakai CTD Data Download through the API\n",
    "# Let's just get the data from QU39\n",
    "year = 2016\n",
    "filterUrl = 'station=QU39&status!=MISCAST&limit=-1'+'&measurement_dt>'+str(year)+'-01-01&measurement_dt<'+str(year+1)+'-01-01'\n",
    "#filterUrl = 'station=QU39&status!=MISCAST&limit=-1'+fields\n",
    "df, url = hakai_qc.get.hakai_ctd_data(filterUrl)\n",
    "print(str(len(df))+' records found')\n",
    "\n",
    "# Regroup profiles and sort them by pressure\n",
    "group_variables = ['device_model','device_sn','ctd_file_pk','ctd_cast_pk','direction_flag']\n",
    "df = df.sort_values(by=group_variables+['pressure'])\n",
    "\n",
    "# Get Derived Variables\n",
    "df = hakai_qc.utils.derived_ocean_variables(df)\n",
    "\n",
    "# Just show the first few lines to have a look\n",
    "df.head() # Show the top of the data frame"
   ]
  },
  {
   "cell_type": "markdown",
   "metadata": {},
   "source": [
    "## Test Configuration\n",
    "We first import the different tests that applied as of now to the Hakai Dataset. You can also add new tests by adding a related dictionary which follow the structure presented below. For more information on the different tests available, have a look at the [ioos_qc webpage](https://ioos.github.io/ioos_qc/api/ioos_qc.html)."
   ]
  },
  {
   "cell_type": "code",
   "execution_count": null,
   "metadata": {},
   "outputs": [],
   "source": [
    "# Load default test parameters used right now!\n",
    "qc_config = hakai_qc.get.json_config('hakai_ctd_profile.json')\n",
    "\n",
    "# If you want to add or modify some of the tests do it here\n",
    "#ex: let's add for the range of fluorescence \n",
    "qc_config['flc']= {'qartod': {\n",
    "                        'gross_range_test': {   \n",
    "                            \"suspect_span\": [0, 70],\n",
    "                            \"fail_span\": [-.5, 100],\n",
    "                        },\n",
    "    \n",
    "                        \"aggregate\": {}    \n",
    "                        }\n",
    "                   }\n",
    "# Show the QC config in a nice looking table\n",
    "hakai_qc.get.config_as_dataframe(qc_config)"
   ]
  },
  {
   "cell_type": "markdown",
   "metadata": {},
   "source": [
    "## Run Test on Data\n",
    "All the different tests listed above are applied to station and each profiles one at the time. \n"
   ]
  },
  {
   "cell_type": "code",
   "execution_count": null,
   "metadata": {},
   "outputs": [],
   "source": [
    "# Run all the tests on each available profiles\n",
    "df = hakai_qc.run.tests_on_profiles(df,hakai_stations,qc_config)"
   ]
  },
  {
   "cell_type": "markdown",
   "metadata": {},
   "source": [
    "## Review Results\n",
    "Let's filter all the data that actually got flagged and keep only the downcast."
   ]
  },
  {
   "cell_type": "code",
   "execution_count": null,
   "metadata": {},
   "outputs": [],
   "source": [
    "# Get Variables to plot (first line gives a list of a the variables that are tested, the second overwrite the first if you want to look into one or few specific variables)\n",
    "variables_to_plot = list(set(qc_config.keys())-set(['position','depth','pressure']))\n",
    "variables_to_plot = [\"dissolved_oxygen_ml_l\",\"rinko_do_ml_l\"]\n",
    "\n",
    "# Review Flagged data (let's look at only the downcast)\n",
    "flag_columns = [var+'_qartod_aggregate' for var in variables_to_plot]\n",
    "flagged_hakai_id = df[df['direction_flag']=='d'][((df.filter(items=flag_columns)>1) \n",
    "                       & (df.filter(items=flag_columns)!=9)).any(axis=1)]['hakai_id'].unique()              \n",
    "\n",
    "# Tell me how many there is\n",
    "print(str(len(flagged_hakai_id))+' profiles were flagged')"
   ]
  },
  {
   "cell_type": "code",
   "execution_count": null,
   "metadata": {},
   "outputs": [],
   "source": [
    "# Now let's plot the flagged data\n",
    "hakai_qc.get.plot_flag_results(df,variables_to_plot,flagged_hakai_id)"
   ]
  },
  {
   "cell_type": "markdown",
   "metadata": {},
   "source": [
    "Show me the results in a some figures!"
   ]
  }
 ],
 "metadata": {
  "kernelspec": {
   "display_name": "Python 3",
   "language": "python",
   "name": "python3"
  },
  "language_info": {
   "codemirror_mode": {
    "name": "ipython",
    "version": 3
   },
   "file_extension": ".py",
   "mimetype": "text/x-python",
   "name": "python",
   "nbconvert_exporter": "python",
   "pygments_lexer": "ipython3",
   "version": "3.7.3"
  }
 },
 "nbformat": 4,
 "nbformat_minor": 4
}
