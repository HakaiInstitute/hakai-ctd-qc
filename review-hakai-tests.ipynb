{
 "cells": [
  {
   "cell_type": "markdown",
   "metadata": {},
   "source": [
    "# Hakai CTD Profile QA/QC Development Tool\n",
    "This jupyter notebook was developed to provide a flexible tool for testing and improving Hakai's QA/QC workflow for CTD profile data. \n",
    "\n",
    "The tool loads Hakai's CTD dataset and allows the user to modify the default tests applied to the data so that different QA/QC thresholds can be evaluated. In addition, new tests can be developed and applied to the data to test thier effectiveness. "
   ]
  },
  {
   "cell_type": "markdown",
   "metadata": {},
   "source": [
    "## Load packages\n",
    "The initial load of these packages may take considerable time. \n",
    "\n",
    "Some of the packages needed are already available on the google Colab Server (pandas, seaborn, matplotlib, json). Others need to be downloaded and installed from their repository on the Hakai and IOOS Github account with the Pypi(pip) package: \n",
    "- [hakai-api-client-python](https://github.com/HakaiInstitute/hakai-api-client-python)\n",
    "- [ioos_qc](https://github.com/HakaiInstitute/ioos_qc@colab-compatible)(Hakai Institute Fork and colab-compatible branch) ioos_qc is actively in developpement. To minimize issues with new changes to the ioos branch we are using a forked version on the Hakai Domain.\n",
    "- [hakai_qc](https://github.com/HakaiInstitute/hakai-profile-qaqc) This package is the main package developped to run the different tests on the Hakai CTD profile dataset. "
   ]
  },
  {
   "cell_type": "code",
   "execution_count": null,
   "metadata": {},
   "outputs": [],
   "source": [
    "import pandas as pd\n",
    "import seaborn as sns\n",
    "import matplotlib.pyplot as plt\n",
    "import json\n",
    "\n",
    "\n",
    "# Get External packages\n",
    "try:\n",
    "    from hakai_api import Client\n",
    "    from ioos_qc.config import QcConfig\n",
    "    import hakai_qc\n",
    "except:\n",
    "    # Install Hakai API Python Client\n",
    "    !pip install git+https://github.com/HakaiInstitute/hakai-api-client-python.git\n",
    "    from hakai_api import Client\n",
    "\n",
    "    # Install ioos_qc\n",
    "    !pip install git+https://github.com/HakaiInstitute/ioos_qc@colab-compatible\n",
    "    from ioos_qc.config import QcConfig\n",
    "    \n",
    "    # Load local modules\n",
    "    !pip install git+https://github.com/HakaiInstitute/hakai-profile-qaqc.git\n",
    "    import hakai_qc\n"
   ]
  },
  {
   "cell_type": "markdown",
   "metadata": {},
   "source": [
    "## Import Stations and CTD data\n",
    "Below, Hakai oceanography stations are uploaded. The Hakai Station Master List is based on a CSV output of the [Hakai Oceanography Master Stations Map and Data](https://hakai.maps.arcgis.com/apps/webappviewer/index.html?id=38e1b1da8d16466bbe5d7c7a713d2678). In order to have the tests applied, new/missing stations will need to be added to the master list."
   ]
  },
  {
   "cell_type": "code",
   "execution_count": null,
   "metadata": {},
   "outputs": [],
   "source": [
    "# Load Hakai Station List\n",
    "hakai_stations = hakai_qc.get.hakai_stations()"
   ]
  },
  {
   "cell_type": "markdown",
   "metadata": {},
   "source": [
    "The following code allows the user to select a station of interest (i.e. QU39) and then, using the API, downloads the processed CTD data for this station from the Hakai database. Note that the API query will need to be authorized, which requires following the link that appears below the code block (appears after the code block has been run) and copying/pasting the authentication URL into the provided box. The paste dropdown button does not work here, so use CNTRL-V to paste the URL into the box."
   ]
  },
  {
   "cell_type": "code",
   "execution_count": null,
   "metadata": {},
   "outputs": [],
   "source": [
    "# Get Hakai CTD Data Download through the API\n",
    "station = 'QU39'\n",
    "\n",
    "variable_lists = hakai_qc.get.hakai_api_selected_variables()\n",
    "\n",
    "# Let's just get the data from QU39\n",
    "filterUrl = 'station='+station+'&status!=MISCAST&limit=-1'+'&fields='+','.join(variable_lists)\n",
    "#filterUrl = 'station=QU39&status!=MISCAST&limit=-1'+fields\n",
    "df, url = hakai_qc.get.hakai_ctd_data(filterUrl)\n",
    "print(str(len(df))+' records found')\n",
    "\n",
    "# Regroup profiles and sort them by pressure\n",
    "group_variables = ['device_model','device_sn','ctd_file_pk','ctd_cast_pk','direction_flag']\n",
    "df = df.sort_values(by=group_variables+['pressure'])\n",
    "\n",
    "# Get Derived Variables\n",
    "df = hakai_qc.utils.derived_ocean_variables(df)\n",
    "\n",
    "# Just show the first few lines to have a look\n",
    "df.head() # Show the top of the data frame"
   ]
  },
  {
   "cell_type": "markdown",
   "metadata": {},
   "source": [
    "## Hakai CTD Profile QA/QC Test Configuration\n",
    "\n",
    "This step imports and configures (i.e sets test thresholds) the QA/QC tests that will be applied to the Hakai CTD data uploaded from the database. \n",
    "\n",
    "New tests can be added by following the structure within the code block below. For additional information on the different tests available, please look at the [ioos_qc webpage](https://ioos.github.io/ioos_qc/api/ioos_qc.html).\n",
    "\n",
    "Test thresholds can be modified using the structure provided in the fluoroescence example below. Variable abbreviations, required to change the thresholds, will appear in a table once this code block has been run.\n"
   ]
  },
  {
   "cell_type": "code",
   "execution_count": null,
   "metadata": {},
   "outputs": [],
   "source": [
    "# Load default test parameters used right now!\n",
    "qc_config = hakai_qc.get.json_config('hakai_ctd_profile.json')\n",
    "\n",
    "#Test parameters can be modified below following the provided format for fluorescence \n",
    "#ex: This code sets the range outside of which fluorescence is considered suspect and implausible (fail) \n",
    "qc_config['flc']= {'qartod': {\n",
    "                        'gross_range_test': {   \n",
    "                            \"suspect_span\": [0, 70],\n",
    "                            \"fail_span\": [-.5, 100],\n",
    "                        }\n",
    "                   }}\n",
    "\n",
    "target = {'target_range':[1000]}\n",
    "qc_config['position']['qartod']['location_test'].update(target)\n",
    "\n",
    "# Displays the QC/QA test parameters in a table\n",
    "hakai_qc.get.config_as_dataframe(qc_config)"
   ]
  },
  {
   "cell_type": "markdown",
   "metadata": {},
   "source": [
    "## Apply QA/QC Tests to CTD Profiles\n",
    "\n",
    "The QA/QC tests and thresholds defined in the above code block/table are applied to the CTD data on a profile by profile basis. Only profiles from the pre-selected station will be evaluated. "
   ]
  },
  {
   "cell_type": "code",
   "execution_count": null,
   "metadata": {},
   "outputs": [],
   "source": [
    "# Run all of the tests on each available profile\n",
    "df = hakai_qc.run.tests_on_profiles(df,hakai_stations,qc_config)"
   ]
  },
  {
   "cell_type": "markdown",
   "metadata": {},
   "source": [
    "## Review Results\n",
    "###  Profile location versus target location\n",
    "This section present the CTD profile qartod location_test result which is comparing the CTD drop location versus the target station coordinates as defined in the Hakai Station Master list. We present here all the drops that failed the test:"
   ]
  },
  {
   "cell_type": "code",
   "execution_count": null,
   "metadata": {},
   "outputs": [],
   "source": [
    "# Output all drops with flagged positions that exceed the distance threshold or do not display coordinates (NaN)\n",
    "#  ignore rows where a depth value does not exist.\n",
    "df[df['position_qartod_location_test']>1].dropna(\n",
    "    axis=0,subset=['depth']).groupby(\n",
    "    'hakai_id').first()[['position_qartod_location_test','station','latitude','longitude','measurement_dt']]"
   ]
  },
  {
   "cell_type": "code",
   "execution_count": null,
   "metadata": {},
   "outputs": [],
   "source": [
    "# Display the CTD profiles with flagged GPS coordinates\n",
    "m = hakai_qc.get.flag_result_map(df.dropna(axis=0,subset=['latitude','longitude','depth']),\n",
    "                                 flag_variable='position_qartod_location_test')\n",
    "m"
   ]
  },
  {
   "cell_type": "markdown",
   "metadata": {},
   "source": [
    "### Profile test flags\n",
    "We present here the CTD profiles that have been assigned flagged data points from the above tests. For these profiles, an additional filter is applied to retain only the profile downcast as this is generally the data utilized for scientific analysis. Once run, the number of flagged profiles will be dispayed at the bottom of the code block. \n",
    "\n",
    "In the next step, the flagged downcast profiles are plotted so that they can be reviewed. In the code block below, the user can define the variables that will be plotted.  When selecting variables to plot, use the variable abbreviations that are defined in the above table."
   ]
  },
  {
   "cell_type": "code",
   "execution_count": null,
   "metadata": {},
   "outputs": [],
   "source": [
    "# Select and input the variables to plot \n",
    "# The first line will plot all variables - if this is desired, comment (#) the second line\n",
    "# The second line allows you to select which variables to plot (at least two parameters must be selected for the code to work). This will overwrite the first line. \n",
    "variables_to_plot = set(qc_config.keys())-{'position','depth','pressure','sigma0'}                    \n",
    "#variables_to_plot = [\"dissolved_oxygen_ml_l\",\"temperature\"]\n",
    "\n",
    "# Review Flagged data and filter for the downcast\n",
    "flag_columns = [var+'_qartod_flag' for var in variables_to_plot]\n",
    "flagged_hakai_id = df.where(df['direction_flag']=='d')[((df.filter(items=flag_columns)>1) \n",
    "                       & (df.filter(items=flag_columns)!=9)).any(axis=1)]['hakai_id'].dropna().unique()              \n",
    "\n",
    "# Tell me how many there is\n",
    "print(str(len(flagged_hakai_id))+' profiles were flagged')"
   ]
  },
  {
   "cell_type": "markdown",
   "metadata": {},
   "source": [
    "This step plots each of the downcast CTD profiles with flagged data points. The displayed variables are defined above. "
   ]
  },
  {
   "cell_type": "code",
   "execution_count": null,
   "metadata": {},
   "outputs": [],
   "source": [
    "# Now let's plot the flagged data\n",
    "hakai_qc.get.flag_result_plot(df,variables_to_plot,flagged_hakai_id[:20],flag_type='_qartod_flag')"
   ]
  },
  {
   "cell_type": "markdown",
   "metadata": {},
   "source": [
    "## Let's review all the profiles one at the time\n",
    "We'll use plotly do to this."
   ]
  },
  {
   "cell_type": "code",
   "execution_count": null,
   "metadata": {},
   "outputs": [],
   "source": [
    "import plotly.express as px\n",
    "from plotly.subplots import make_subplots\n",
    "import plotly.graph_objects as go\n",
    "\n",
    "#Define flag colors\n",
    "qartod_color = {1:'green',2:'yellow',3:'orange',4:'red',9:'purple'}\n",
    "\n",
    "df_hakai_id = df.groupby('hakai_id')\n",
    "df_iter = iter(df_hakai_id)"
   ]
  },
  {
   "cell_type": "markdown",
   "metadata": {},
   "source": [
    "A new profile shown everytime you'll run the cell below."
   ]
  },
  {
   "cell_type": "code",
   "execution_count": null,
   "metadata": {},
   "outputs": [],
   "source": [
    "# Iterate one Hakai ID at the time\n",
    "id,df_temp = next(df_iter)\n",
    "\n",
    "# Sort them by direction and depth\n",
    "df_temp.sort_values(['direction_flag','depth'],inplace=True)\n",
    "vars = list(variables_to_plot)\n",
    "#vars = ['salinity','temperature']\n",
    "\n",
    "#Create Subplots\n",
    "fig = make_subplots(rows=1,cols=len(vars), shared_yaxes=True)\n",
    "\n",
    "kk=1\n",
    "for var in vars:\n",
    "    for direction_flag in ['d','u']:\n",
    "        for flag,color in qartod_color.items():\n",
    "            df_flag = df_temp[(df_temp[var+'_qartod_flag']==flag) & (df_temp['direction_flag']==direction_flag)]\n",
    "\n",
    "            if len(df_flag):\n",
    "                \n",
    "                if direction_flag is 'u':\n",
    "                    marker_dict = dict(color=color,line=dict(color='black',width=.5))\n",
    "                else:\n",
    "                    marker_dict = dict(color=color,line=dict(color='white',width=.5))\n",
    "                    \n",
    "                fig.add_trace(\n",
    "                go.Scatter(x=df_flag[var],\n",
    "                           y=df_flag['depth'],\n",
    "                           mode='markers',\n",
    "                           marker=marker_dict,# df_temp[var+'_qartod_flag'],\n",
    "                           text=df_flag[var+'_flag_description']),\n",
    "                    row=1,col=kk)\n",
    "    \n",
    "    # Add a new line character to x titles every two plots to make x titles more readable\n",
    "    if (kk % 2)== 0:\n",
    "        title_x = ' <br>'+var\n",
    "    else:\n",
    "        title_x = var\n",
    "        \n",
    "    if var in ['par']: # Make PAR x axis log\n",
    "        fig.update_xaxes(type=\"log\",row=1,col=kk)\n",
    "        \n",
    "    fig.update_xaxes(title=title_x, row=1, col=kk)\n",
    "    kk=kk+1\n",
    "\n",
    "# Add stuff around each figures\n",
    "fig.update_yaxes(title_text=\"Depth (m)\",row=1,col=1)\n",
    "fig.update_yaxes(autorange=\"reversed\",linecolor='black',mirror=True,ticks='outside',showline=True)\n",
    "fig.update_xaxes(mirror=True,ticks='outside',showline=True,tickangle=45,linecolor='black')\n",
    "fig.update_layout(height=600, width=1000,showlegend=False)\n",
    "print(id)\n",
    "fig.show()"
   ]
  },
  {
   "cell_type": "code",
   "execution_count": null,
   "metadata": {},
   "outputs": [],
   "source": [
    "# Look at one variable at the time\n",
    "var = 'salinity'\n",
    "\n",
    "## Get Figure\n",
    "fig = px.scatter(df_temp,x=var,y='depth',color=var+'_qartod_flag',hover_name=var+'_flag_description',\n",
    "                color_discrete_map=qartod_color,symbol='direction_flag')\n",
    "#fig.update_xaxes(type='log')\n",
    "fig.update_yaxes(autorange=\"reversed\",linecolor='black',mirror=True,ticks='outside',showline=True,title_text=\"Depth (m)\",)\n",
    "fig.update_xaxes(mirror=True,ticks='outside',showline=True,tickangle=45,linecolor='black')\n",
    "fig.update_layout(height=600, width=1000)\n",
    "fig.show()"
   ]
  },
  {
   "cell_type": "code",
   "execution_count": null,
   "metadata": {},
   "outputs": [],
   "source": []
  }
 ],
 "metadata": {
  "kernelspec": {
   "display_name": "Python 3",
   "language": "python",
   "name": "python3"
  },
  "language_info": {
   "codemirror_mode": {
    "name": "ipython",
    "version": 3
   },
   "file_extension": ".py",
   "mimetype": "text/x-python",
   "name": "python",
   "nbconvert_exporter": "python",
   "pygments_lexer": "ipython3",
   "version": "3.8.2"
  }
 },
 "nbformat": 4,
 "nbformat_minor": 4
}
